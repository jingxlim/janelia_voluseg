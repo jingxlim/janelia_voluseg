{
 "cells": [
  {
   "cell_type": "code",
   "execution_count": 1,
   "metadata": {},
   "outputs": [
    {
     "data": {
      "application/javascript": [
       "if (!(\"Notification\" in window)) {\n",
       "    alert(\"This browser does not support desktop notifications, so the %%notify magic will not work.\");\n",
       "} else if (Notification.permission !== 'granted' && Notification.permission !== 'denied') {\n",
       "    Notification.requestPermission(function (permission) {\n",
       "        if(!('permission' in Notification)) {\n",
       "            Notification.permission = permission;\n",
       "        }\n",
       "    })\n",
       "}\n"
      ],
      "text/plain": [
       "<IPython.core.display.Javascript object>"
      ]
     },
     "metadata": {},
     "output_type": "display_data"
    }
   ],
   "source": [
    "%matplotlib widget\n",
    "%load_ext autoreload\n",
    "%load_ext jupyternotify\n",
    "%autoreload 2"
   ]
  },
  {
   "cell_type": "code",
   "execution_count": 14,
   "metadata": {},
   "outputs": [],
   "source": [
    "import h5py\n",
    "import matplotlib.pyplot as plt\n",
    "import numpy as np"
   ]
  },
  {
   "cell_type": "code",
   "execution_count": 6,
   "metadata": {},
   "outputs": [
    {
     "name": "stdout",
     "output_type": "stream",
     "text": [
      "/nrs/ahrens/jing/statemod/stateeth/loom/MG_vs_NGGU/20210603/fish00/4dpf_HuC-h2b-GC7F_MG-vs-NGGU-bright-to-loom_fish00_exp02_20210603_180846/im_CM0_voluseg\n"
     ]
    }
   ],
   "source": [
    "root_dir = r'/nrs/ahrens/jing/statemod/stateeth/loom/MG_vs_NGGU/20210603/fish00/4dpf_HuC-h2b-GC7F_MG-vs-NGGU-bright-to-loom_fish00_exp02_20210603_180846'\n",
    "voluseg_dir = f'{root_dir}/im_CM0_voluseg'\n",
    "print(voluseg_dir)"
   ]
  },
  {
   "cell_type": "markdown",
   "metadata": {},
   "source": [
    "## look and/or edit `parameters.pickle`"
   ]
  },
  {
   "cell_type": "code",
   "execution_count": 20,
   "metadata": {},
   "outputs": [],
   "source": [
    "import voluseg"
   ]
  },
  {
   "cell_type": "code",
   "execution_count": 17,
   "metadata": {},
   "outputs": [],
   "source": [
    "pickle_path = f'{voluseg_dir}/parameters.pickle'"
   ]
  },
  {
   "cell_type": "code",
   "execution_count": 21,
   "metadata": {},
   "outputs": [
    {
     "name": "stdout",
     "output_type": "stream",
     "text": [
      "parameter file successfully loaded.\n"
     ]
    }
   ],
   "source": [
    "parameters = voluseg.load_parameters(pickle_path)"
   ]
  },
  {
   "cell_type": "code",
   "execution_count": 22,
   "metadata": {},
   "outputs": [
    {
     "data": {
      "text/plain": [
       "{'detrending': 'standard',\n",
       " 'registration': 'medium',\n",
       " 'diam_cell': 6.0,\n",
       " 'dir_ants': '',\n",
       " 'dir_input': '/scratch/limj2/data/20210603/fish00/4dpf_HuC-h2b-GC7F_MG-vs-NGGU-bright-to-loom_fish00_exp02_20210603_180846/im_CM0',\n",
       " 'dir_output': '/scratch/limj2/data/20210603/fish00/4dpf_HuC-h2b-GC7F_MG-vs-NGGU-bright-to-loom_fish00_exp02_20210603_180846/im_CM0_voluseg',\n",
       " 'ds': 2,\n",
       " 'planes_pad': 0,\n",
       " 'planes_packed': False,\n",
       " 'parallel_clean': True,\n",
       " 'parallel_volume': False,\n",
       " 'save_volume': False,\n",
       " 'type_timepoints': 'dff',\n",
       " 'type_mask': 'geomean',\n",
       " 'timepoints': 1000,\n",
       " 'f_hipass': 0,\n",
       " 'f_volume': 2.98,\n",
       " 'n_cells_block': 200,\n",
       " 'n_colors': 1,\n",
       " 'res_x': 0.40625,\n",
       " 'res_y': 0.40625,\n",
       " 'res_z': 4.9,\n",
       " 't_baseline': 300,\n",
       " 't_section': 0,\n",
       " 'thr_mask': 0.5,\n",
       " 'timepoints_type': 'periodic',\n",
       " 'volume_names': array(['TM0000000_CM0_CHN00', 'TM0000001_CM0_CHN00',\n",
       "        'TM0000002_CM0_CHN00', ..., 'TM0043084_CM0_CHN00',\n",
       "        'TM0043085_CM0_CHN00', 'TM0043086_CM0_CHN00'], dtype='<U19'),\n",
       " 'ext': '.h5',\n",
       " 'lt': 43087,\n",
       " 'affine_mat': array([[0.8125, 0.    , 0.    , 0.    ],\n",
       "        [0.    , 0.8125, 0.    , 0.    ],\n",
       "        [0.    , 0.    , 4.9   , 0.    ],\n",
       "        [0.    , 0.    , 0.    , 1.    ]])}"
      ]
     },
     "execution_count": 22,
     "metadata": {},
     "output_type": "execute_result"
    }
   ],
   "source": [
    "parameters"
   ]
  },
  {
   "cell_type": "code",
   "execution_count": 45,
   "metadata": {},
   "outputs": [
    {
     "name": "stdout",
     "output_type": "stream",
     "text": [
      "(1356,)\n"
     ]
    }
   ],
   "source": [
    "new_timepoints = np.arange(0, parameters['volume_names'].shape[0], 20)\n",
    "print(new_timepoints.shape)"
   ]
  },
  {
   "cell_type": "code",
   "execution_count": 43,
   "metadata": {},
   "outputs": [
    {
     "data": {
      "text/plain": [
       "'/scratch/limj2/state_modulation/GRAB_NE/20210304/fish03/6dpf_GRABNE_MG-vs-LGGU-fmg_fish03_exp02_20210304_220752/im_CM0_voluseg/mean_timeseries.hdf5'"
      ]
     },
     "execution_count": 43,
     "metadata": {},
     "output_type": "execute_result"
    }
   ],
   "source": [
    "import os\n",
    "timeseries_h5_path = os.path.join(parameters['dir_output'], 'mean_timeseries.hdf5')"
   ]
  },
  {
   "cell_type": "markdown",
   "metadata": {},
   "source": [
    "## Look at aligned h5"
   ]
  },
  {
   "cell_type": "code",
   "execution_count": 4,
   "metadata": {},
   "outputs": [],
   "source": [
    "volume_h5_path = '/scratch/limj2/state_modulation/GRAB_NE/20210304/fish03/6dpf_GRABNE_MG-vs-LGGU-fmg_fish03_exp02_20210304_220752/im_CM0_voluseg/volumes/0/TM0000000_CM0_CHN00_aligned.hdf5'"
   ]
  },
  {
   "cell_type": "code",
   "execution_count": 5,
   "metadata": {},
   "outputs": [],
   "source": [
    "f = h5py.File(volume_h5_path , 'r')"
   ]
  },
  {
   "cell_type": "code",
   "execution_count": 6,
   "metadata": {},
   "outputs": [
    {
     "data": {
      "text/plain": [
       "['volume']"
      ]
     },
     "execution_count": 6,
     "metadata": {},
     "output_type": "execute_result"
    }
   ],
   "source": [
    "list(f.keys())"
   ]
  },
  {
   "cell_type": "code",
   "execution_count": 7,
   "metadata": {},
   "outputs": [],
   "source": [
    "volume = f['volume']"
   ]
  },
  {
   "cell_type": "code",
   "execution_count": 12,
   "metadata": {},
   "outputs": [
    {
     "data": {
      "text/plain": [
       "(53, 572, 1024)"
      ]
     },
     "execution_count": 12,
     "metadata": {},
     "output_type": "execute_result"
    }
   ],
   "source": [
    "volume.shape"
   ]
  },
  {
   "cell_type": "code",
   "execution_count": 13,
   "metadata": {},
   "outputs": [
    {
     "data": {
      "text/plain": [
       "(4, 36, 128)"
      ]
     },
     "execution_count": 13,
     "metadata": {},
     "output_type": "execute_result"
    }
   ],
   "source": [
    "volume.chunks"
   ]
  },
  {
   "cell_type": "code",
   "execution_count": 14,
   "metadata": {},
   "outputs": [
    {
     "data": {
      "text/plain": [
       "dtype('<f4')"
      ]
     },
     "execution_count": 14,
     "metadata": {},
     "output_type": "execute_result"
    }
   ],
   "source": [
    "volume.dtype"
   ]
  },
  {
   "cell_type": "code",
   "execution_count": 16,
   "metadata": {},
   "outputs": [],
   "source": [
    "f.close()"
   ]
  },
  {
   "cell_type": "markdown",
   "metadata": {},
   "source": [
    "## Look at timeseries h5"
   ]
  },
  {
   "cell_type": "code",
   "execution_count": 9,
   "metadata": {},
   "outputs": [
    {
     "name": "stdout",
     "output_type": "stream",
     "text": [
      "/nrs/ahrens/jing/statemod/stateeth/loom/MG_vs_NGGU/20210603/fish00/4dpf_HuC-h2b-GC7F_MG-vs-NGGU-bright-to-loom_fish00_exp02_20210603_180846/im_CM0_voluseg/mean_timeseries.hdf5\n"
     ]
    }
   ],
   "source": [
    "timeseries_h5_path = f'{voluseg_dir}/mean_timeseries.hdf5'\n",
    "print(timeseries_h5_path)"
   ]
  },
  {
   "cell_type": "code",
   "execution_count": 35,
   "metadata": {},
   "outputs": [
    {
     "name": "stdout",
     "output_type": "stream",
     "text": [
      "mean_baseline\n",
      "<class 'numpy.ndarray'>\n",
      "(1, 43087)\n",
      "mean_timeseries\n",
      "<class 'numpy.ndarray'>\n",
      "(1, 43087)\n",
      "mean_timeseries_raw\n",
      "<class 'numpy.ndarray'>\n",
      "(1, 43087)\n",
      "timepoints\n",
      "<class 'numpy.ndarray'>\n",
      "(1000,)\n"
     ]
    }
   ],
   "source": [
    "hf = h5py.File(timeseries_h5_path, 'r')\n",
    "list(hf.keys())\n",
    "\n",
    "mean_timeseries = {}\n",
    "\n",
    "for key in list(hf.keys()):\n",
    "    \n",
    "    print(key)\n",
    "    \n",
    "    mean_timeseries[key] = hf[key][()]\n",
    "    \n",
    "    print(type(mean_timeseries[key]))\n",
    "    print(mean_timeseries[key].shape) \n",
    "    \n",
    "hf.close()"
   ]
  },
  {
   "cell_type": "code",
   "execution_count": 15,
   "metadata": {},
   "outputs": [
    {
     "data": {
      "application/vnd.jupyter.widget-view+json": {
       "model_id": "b2be9f19c6a543809474086b8b9da952",
       "version_major": 2,
       "version_minor": 0
      },
      "text/plain": [
       "Canvas(toolbar=Toolbar(toolitems=[('Home', 'Reset original view', 'home', 'home'), ('Back', 'Back to previous …"
      ]
     },
     "metadata": {},
     "output_type": "display_data"
    },
    {
     "data": {
      "text/plain": [
       "<matplotlib.collections.PathCollection at 0x146f1517f780>"
      ]
     },
     "execution_count": 15,
     "metadata": {},
     "output_type": "execute_result"
    }
   ],
   "source": [
    "plt.figure()\n",
    "plt.scatter(np.arange(len(timepoints)), timepoints)"
   ]
  },
  {
   "cell_type": "markdown",
   "metadata": {},
   "source": [
    "## Look at `cells0_clean.hdf5`"
   ]
  },
  {
   "cell_type": "code",
   "execution_count": 31,
   "metadata": {},
   "outputs": [
    {
     "name": "stdout",
     "output_type": "stream",
     "text": [
      "/nrs/ahrens/jing/statemod/stateeth/loom/MG_vs_NGGU/20210603/fish00/4dpf_HuC-h2b-GC7F_MG-vs-NGGU-bright-to-loom_fish00_exp02_20210603_180846/im_CM0_voluseg/cells0_clean.hdf5\n"
     ]
    }
   ],
   "source": [
    "cell0_clean_h5_path = f'{voluseg_dir}/cells0_clean.hdf5'\n",
    "print(cell0_clean_h5_path)"
   ]
  },
  {
   "cell_type": "code",
   "execution_count": 36,
   "metadata": {},
   "outputs": [
    {
     "name": "stdout",
     "output_type": "stream",
     "text": [
      "background\n",
      "<class 'numpy.float64'>\n",
      "()\n",
      "cell_baseline\n",
      "<class 'numpy.ndarray'>\n",
      "(115434, 43087)\n",
      "cell_block_id\n",
      "<class 'numpy.ndarray'>\n",
      "(115434,)\n",
      "cell_timeseries\n",
      "<class 'numpy.ndarray'>\n",
      "(115434, 43087)\n",
      "cell_timeseries_raw\n",
      "<class 'numpy.ndarray'>\n",
      "(115434, 43087)\n",
      "cell_weights\n",
      "<class 'numpy.ndarray'>\n",
      "(115434, 261)\n",
      "cell_x\n",
      "<class 'numpy.ndarray'>\n",
      "(115434, 261)\n",
      "cell_y\n",
      "<class 'numpy.ndarray'>\n",
      "(115434, 261)\n",
      "cell_z\n",
      "<class 'numpy.ndarray'>\n",
      "(115434, 261)\n",
      "n\n",
      "<class 'numpy.int64'>\n",
      "()\n",
      "t\n",
      "<class 'numpy.int64'>\n",
      "()\n",
      "volume_id\n",
      "<class 'numpy.ndarray'>\n",
      "(1024, 572, 53)\n",
      "volume_weight\n",
      "<class 'numpy.ndarray'>\n",
      "(1024, 572, 53)\n",
      "x\n",
      "<class 'numpy.int64'>\n",
      "()\n",
      "y\n",
      "<class 'numpy.int64'>\n",
      "()\n",
      "z\n",
      "<class 'numpy.int64'>\n",
      "()\n",
      "CPU times: user 50.6 ms, sys: 25.2 s, total: 25.3 s\n",
      "Wall time: 25.2 s\n"
     ]
    }
   ],
   "source": [
    "%%time\n",
    "hf = h5py.File(cell0_clean_h5_path, 'r')\n",
    "list(hf.keys())\n",
    "\n",
    "cells0_clean = {}\n",
    "\n",
    "for key in list(hf.keys()):\n",
    "    \n",
    "    print(key)\n",
    "    \n",
    "    cells0_clean[key] = hf[key][()]\n",
    "    print(type(cells0_clean[key]))\n",
    "    \n",
    "    try:\n",
    "        if cells0_clean[key].shape == ():\n",
    "            print(cells0_clean[key])\n",
    "        else:\n",
    "            print(cells0_clean[key].shape)         \n",
    "        \n",
    "    except:\n",
    "        print(cells0_clean[key])\n",
    "    \n",
    "hf.close()"
   ]
  },
  {
   "cell_type": "markdown",
   "metadata": {},
   "source": [
    "## Look at `cells0_clean.hdf5`"
   ]
  },
  {
   "cell_type": "code",
   "execution_count": 43,
   "metadata": {},
   "outputs": [
    {
     "name": "stdout",
     "output_type": "stream",
     "text": [
      "/nrs/ahrens/jing/statemod/stateeth/loom/MG_vs_NGGU/20210603/fish00/4dpf_HuC-h2b-GC7F_MG-vs-NGGU-bright-to-loom_fish00_exp02_20210603_180846/im_CM0_voluseg/volume0.hdf5\n"
     ]
    }
   ],
   "source": [
    "volume0_h5_path = f'{voluseg_dir}/volume0.hdf5'\n",
    "print(volume0_h5_path)"
   ]
  },
  {
   "cell_type": "code",
   "execution_count": 45,
   "metadata": {},
   "outputs": [
    {
     "name": "stdout",
     "output_type": "stream",
     "text": [
      "background\n",
      "<class 'numpy.float64'>\n",
      "104.41989524649262\n",
      "block_valids\n",
      "<class 'numpy.ndarray'>\n",
      "(2197,)\n",
      "block_xyz0\n",
      "<class 'numpy.ndarray'>\n",
      "(2197, 3)\n",
      "block_xyz1\n",
      "<class 'numpy.ndarray'>\n",
      "(2197, 3)\n",
      "n_blocks\n",
      "<class 'numpy.int64'>\n",
      "2197\n",
      "n_voxels_cell\n",
      "<class 'numpy.int64'>\n",
      "52\n",
      "thr_intensity\n",
      "<class 'numpy.float64'>\n",
      "107.65608477881281\n",
      "thr_probability\n",
      "<class 'numpy.float64'>\n",
      "0.5\n",
      "volume_mask\n",
      "<class 'numpy.ndarray'>\n",
      "(53, 572, 1024)\n",
      "volume_mean\n",
      "<class 'numpy.ndarray'>\n",
      "(53, 572, 1024)\n",
      "volume_peak\n",
      "<class 'numpy.ndarray'>\n",
      "(53, 572, 1024)\n",
      "CPU times: user 7.48 ms, sys: 214 ms, total: 222 ms\n",
      "Wall time: 797 ms\n"
     ]
    }
   ],
   "source": [
    "%%time\n",
    "hf = h5py.File(volume0_h5_path, 'r')\n",
    "list(hf.keys())\n",
    "\n",
    "volume0 = {}\n",
    "\n",
    "for key in list(hf.keys()):\n",
    "    \n",
    "    print(key)\n",
    "    \n",
    "    volume0[key] = hf[key][()]\n",
    "    print(type(volume0[key]))\n",
    "    \n",
    "    try:\n",
    "        if volume0[key].shape == ():\n",
    "            print(volume0[key])\n",
    "        else:\n",
    "            print(volume0[key].shape)         \n",
    "        \n",
    "    except:\n",
    "        print(volume0[key])\n",
    "    \n",
    "hf.close()"
   ]
  },
  {
   "cell_type": "code",
   "execution_count": null,
   "metadata": {},
   "outputs": [],
   "source": []
  }
 ],
 "metadata": {
  "kernelspec": {
   "display_name": "python37",
   "language": "python",
   "name": "python37"
  },
  "language_info": {
   "codemirror_mode": {
    "name": "ipython",
    "version": 3
   },
   "file_extension": ".py",
   "mimetype": "text/x-python",
   "name": "python",
   "nbconvert_exporter": "python",
   "pygments_lexer": "ipython3",
   "version": "3.6.7"
  }
 },
 "nbformat": 4,
 "nbformat_minor": 4
}
