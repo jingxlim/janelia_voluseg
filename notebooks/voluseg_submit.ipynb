{
 "cells": [
  {
   "cell_type": "code",
   "execution_count": 1,
   "metadata": {},
   "outputs": [],
   "source": [
    "%matplotlib widget\n",
    "%load_ext autoreload\n",
    "%autoreload 2"
   ]
  },
  {
   "cell_type": "code",
   "execution_count": 2,
   "metadata": {},
   "outputs": [],
   "source": [
    "from tqdm.auto import tqdm\n",
    "from glob import glob\n",
    "from IPython.display import display"
   ]
  },
  {
   "cell_type": "code",
   "execution_count": 3,
   "metadata": {},
   "outputs": [],
   "source": [
    "# initialize_parameters.py, voluseg_submit.py\n",
    "# set up\n",
    "import os\n",
    "import pprint\n",
    "import voluseg\n",
    "import sys\n",
    "import time\n",
    "import shutil"
   ]
  },
  {
   "cell_type": "code",
   "execution_count": 4,
   "metadata": {
    "scrolled": true,
    "tags": []
   },
   "outputs": [
    {
     "data": {
      "text/plain": [
       "{'distributed': {'worker': {'use-file-locking': False,\n",
       "   'blocked-handlers': [],\n",
       "   'multiprocessing-method': 'spawn',\n",
       "   'connections': {'outgoing': 50, 'incoming': 10},\n",
       "   'preload': [],\n",
       "   'preload-argv': [],\n",
       "   'daemon': True,\n",
       "   'validate': False,\n",
       "   'lifetime': {'duration': None, 'stagger': '0 seconds', 'restart': False},\n",
       "   'profile': {'interval': '10ms', 'cycle': '1000ms', 'low-level': False},\n",
       "   'memory': {'target': 0.6, 'spill': 0.7, 'pause': 0.8, 'terminate': 0.95},\n",
       "   'http': {'routes': ['distributed.http.worker.prometheus',\n",
       "     'distributed.http.health',\n",
       "     'distributed.http.statics']}},\n",
       "  'scheduler': {'allowed-failures': 9999,\n",
       "   'memory': {'target': 0.6, 'spill': 0.7, 'pause': 0.8, 'terminate': 0.95},\n",
       "   'bandwidth': 100000000,\n",
       "   'blocked-handlers': [],\n",
       "   'default-data-size': '1kiB',\n",
       "   'events-cleanup-delay': '1h',\n",
       "   'idle-timeout': None,\n",
       "   'transition-log-length': 100000,\n",
       "   'work-stealing': True,\n",
       "   'work-stealing-interval': '100ms',\n",
       "   'worker-ttl': None,\n",
       "   'pickle': True,\n",
       "   'preload': [],\n",
       "   'preload-argv': [],\n",
       "   'unknown-task-duration': '500ms',\n",
       "   'default-task-durations': {'rechunk-split': '1us', 'shuffle-split': '1us'},\n",
       "   'validate': False,\n",
       "   'dashboard': {'status': {'task-stream-length': 1000},\n",
       "    'tasks': {'task-stream-length': 100000},\n",
       "    'tls': {'ca-file': None, 'key': None, 'cert': None},\n",
       "    'bokeh-application': {'allow_websocket_origin': ['*'],\n",
       "     'keep_alive_milliseconds': 500,\n",
       "     'check_unused_sessions_milliseconds': 500}},\n",
       "   'locks': {'lease-validation-interval': '10s', 'lease-timeout': '30s'},\n",
       "   'http': {'routes': ['distributed.http.scheduler.prometheus',\n",
       "     'distributed.http.scheduler.info',\n",
       "     'distributed.http.scheduler.json',\n",
       "     'distributed.http.health',\n",
       "     'distributed.http.proxy',\n",
       "     'distributed.http.statics']},\n",
       "   'allowed-imports': ['dask', 'distributed']},\n",
       "  'version': 2,\n",
       "  'nanny': {'preload': [], 'preload-argv': []},\n",
       "  'client': {'heartbeat': '5s', 'scheduler-info-interval': '2s'},\n",
       "  'deploy': {'lost-worker-timeout': '15s', 'cluster-repr-interval': '500ms'},\n",
       "  'adaptive': {'interval': '1s',\n",
       "   'target-duration': '5s',\n",
       "   'minimum': 0,\n",
       "   'maximum': inf,\n",
       "   'wait-count': 3},\n",
       "  'comm': {'retry': {'count': 0, 'delay': {'min': '1s', 'max': '20s'}},\n",
       "   'compression': 'auto',\n",
       "   'offload': '10MiB',\n",
       "   'default-scheme': 'tcp',\n",
       "   'socket-backlog': 2048,\n",
       "   'recent-messages-log-length': 0,\n",
       "   'zstd': {'level': 3, 'threads': 0},\n",
       "   'timeouts': {'connect': '1440s', 'tcp': '4320s'},\n",
       "   'require-encryption': None,\n",
       "   'tls': {'ciphers': None,\n",
       "    'ca-file': None,\n",
       "    'scheduler': {'cert': None, 'key': None},\n",
       "    'worker': {'key': None, 'cert': None},\n",
       "    'client': {'key': None, 'cert': None}}},\n",
       "  'dashboard': {'link': '{scheme}://{host}:{port}/status',\n",
       "   'export-tool': False,\n",
       "   'graph-max-items': 5000},\n",
       "  'admin': {'tick': {'interval': '20ms', 'limit': '3s'},\n",
       "   'max-error-length': 10000,\n",
       "   'log-length': 10000,\n",
       "   'log-format': '%(name)s - %(levelname)s - %(message)s',\n",
       "   'pdb-on-err': False}},\n",
       " 'temporary-directory': None,\n",
       " 'dataframe': {'shuffle-compression': None},\n",
       " 'array': {'svg': {'size': 120},\n",
       "  'slicing': {'split-large-chunks': None},\n",
       "  'chunk-size': '128MiB',\n",
       "  'rechunk-threshold': 4},\n",
       " 'optimization': {'fuse': {'active': True,\n",
       "   'ave-width': 1,\n",
       "   'max-width': None,\n",
       "   'max-height': inf,\n",
       "   'max-depth-new-edges': None,\n",
       "   'subgraphs': None,\n",
       "   'rename-keys': True}},\n",
       " 'rmm': {'pool-size': None},\n",
       " 'ucx': {'tcp': None,\n",
       "  'nvlink': None,\n",
       "  'infiniband': None,\n",
       "  'rdmacm': None,\n",
       "  'cuda_copy': None,\n",
       "  'net-devices': None,\n",
       "  'reuse-endpoints': True}}"
      ]
     },
     "execution_count": 4,
     "metadata": {},
     "output_type": "execute_result"
    }
   ],
   "source": [
    "import dask\n",
    "import dask.array as da\n",
    "from analysis_toolbox.parallel import start_cluster\n",
    "from dask.distributed import Client\n",
    "\n",
    "dask.config.set({\n",
    "    'distributed.scheduler.allowed-failures': 9999,\n",
    "    'distributed.comm.timeouts.connect':'1440s',\n",
    "    'distributed.comm.timeouts.tcp':'4320s'\n",
    "})\n",
    "dask.config.config"
   ]
  },
  {
   "cell_type": "code",
   "execution_count": 5,
   "metadata": {},
   "outputs": [],
   "source": [
    "root_dir = '/scratch/limj2/data/raw/20211007/fish00/5dpf_elavl3-gc8f-gfap-jregeco_MG-vs_NGGU-trunc65_fish00_exp07_20211007_215308/'\n",
    "dir_input = root_dir + 'im_CM0/'\n",
    "dir_output = root_dir + 'im_CM0_voluseg/'\n",
    "src_ds_dir = root_dir + 'im_CM0_ds/'\n",
    "dest_ds_dir = dir_output + 'volumes/0/'"
   ]
  },
  {
   "cell_type": "code",
   "execution_count": 6,
   "metadata": {},
   "outputs": [],
   "source": [
    "data_cit = dir_output + 'volumes/0.zarr'\n",
    "data_cis = dir_output + 'volumes/0_rechunked.zarr'"
   ]
  },
  {
   "cell_type": "markdown",
   "metadata": {},
   "source": [
    "## Prepare to start at step 3"
   ]
  },
  {
   "cell_type": "code",
   "execution_count": 7,
   "metadata": {},
   "outputs": [
    {
     "name": "stdout",
     "output_type": "stream",
     "text": [
      "Total: 48.4TiB\n",
      "Used: 32.5TiB\n",
      "Free: 15.9TiB\n"
     ]
    }
   ],
   "source": [
    "from analysis_toolbox.utils import disk_usage\n",
    "\n",
    "disk_usage(root_dir)"
   ]
  },
  {
   "cell_type": "markdown",
   "metadata": {},
   "source": [
    "### Rename h5 files and datasets"
   ]
  },
  {
   "cell_type": "code",
   "execution_count": 8,
   "metadata": {},
   "outputs": [],
   "source": [
    "from analysis_toolbox.fileio import rename_file_with_replace, rename_h5_dataset"
   ]
  },
  {
   "cell_type": "code",
   "execution_count": 9,
   "metadata": {},
   "outputs": [
    {
     "data": {
      "text/plain": [
       "['/scratch/limj2/data/raw/20211007/fish00/5dpf_elavl3-gc8f-gfap-jregeco_MG-vs_NGGU-trunc65_fish00_exp07_20211007_215308/im_CM0_ds/TM0000000_CM0_CHN00.h5',\n",
       " '/scratch/limj2/data/raw/20211007/fish00/5dpf_elavl3-gc8f-gfap-jregeco_MG-vs_NGGU-trunc65_fish00_exp07_20211007_215308/im_CM0_ds/TM0000001_CM0_CHN00.h5',\n",
       " '/scratch/limj2/data/raw/20211007/fish00/5dpf_elavl3-gc8f-gfap-jregeco_MG-vs_NGGU-trunc65_fish00_exp07_20211007_215308/im_CM0_ds/TM0000002_CM0_CHN00.h5',\n",
       " '/scratch/limj2/data/raw/20211007/fish00/5dpf_elavl3-gc8f-gfap-jregeco_MG-vs_NGGU-trunc65_fish00_exp07_20211007_215308/im_CM0_ds/TM0000003_CM0_CHN00.h5',\n",
       " '/scratch/limj2/data/raw/20211007/fish00/5dpf_elavl3-gc8f-gfap-jregeco_MG-vs_NGGU-trunc65_fish00_exp07_20211007_215308/im_CM0_ds/TM0000004_CM0_CHN00.h5',\n",
       " '/scratch/limj2/data/raw/20211007/fish00/5dpf_elavl3-gc8f-gfap-jregeco_MG-vs_NGGU-trunc65_fish00_exp07_20211007_215308/im_CM0_ds/TM0000005_CM0_CHN00.h5',\n",
       " '/scratch/limj2/data/raw/20211007/fish00/5dpf_elavl3-gc8f-gfap-jregeco_MG-vs_NGGU-trunc65_fish00_exp07_20211007_215308/im_CM0_ds/TM0000006_CM0_CHN00.h5',\n",
       " '/scratch/limj2/data/raw/20211007/fish00/5dpf_elavl3-gc8f-gfap-jregeco_MG-vs_NGGU-trunc65_fish00_exp07_20211007_215308/im_CM0_ds/TM0000007_CM0_CHN00.h5',\n",
       " '/scratch/limj2/data/raw/20211007/fish00/5dpf_elavl3-gc8f-gfap-jregeco_MG-vs_NGGU-trunc65_fish00_exp07_20211007_215308/im_CM0_ds/TM0000008_CM0_CHN00.h5',\n",
       " '/scratch/limj2/data/raw/20211007/fish00/5dpf_elavl3-gc8f-gfap-jregeco_MG-vs_NGGU-trunc65_fish00_exp07_20211007_215308/im_CM0_ds/TM0000009_CM0_CHN00.h5']"
      ]
     },
     "execution_count": 9,
     "metadata": {},
     "output_type": "execute_result"
    }
   ],
   "source": [
    "h5_paths = sorted(glob(src_ds_dir+\"*.h5\"))\n",
    "\n",
    "h5_paths[:10]"
   ]
  },
  {
   "cell_type": "code",
   "execution_count": 10,
   "metadata": {},
   "outputs": [
    {
     "data": {
      "application/vnd.jupyter.widget-view+json": {
       "model_id": "f697dc2cf93e47d793348334d5b383da",
       "version_major": 2,
       "version_minor": 0
      },
      "text/plain": [
       "HBox(children=(HTML(value=''), FloatProgress(value=0.0, max=47767.0), HTML(value='')))"
      ]
     },
     "metadata": {},
     "output_type": "display_data"
    },
    {
     "name": "stdout",
     "output_type": "stream",
     "text": [
      "\n",
      "CPU times: user 8.72 s, sys: 1.72 s, total: 10.4 s\n",
      "Wall time: 16.6 s\n"
     ]
    }
   ],
   "source": [
    "%%time\n",
    "for h5_path in tqdm(h5_paths):\n",
    "    rename_h5_dataset(h5_path, 'default', 'volume')"
   ]
  },
  {
   "cell_type": "code",
   "execution_count": 11,
   "metadata": {},
   "outputs": [
    {
     "data": {
      "application/vnd.jupyter.widget-view+json": {
       "model_id": "cf1d309e2272403e956fa2cd1a20e681",
       "version_major": 2,
       "version_minor": 0
      },
      "text/plain": [
       "HBox(children=(HTML(value=''), FloatProgress(value=0.0, max=47767.0), HTML(value='')))"
      ]
     },
     "metadata": {},
     "output_type": "display_data"
    },
    {
     "name": "stdout",
     "output_type": "stream",
     "text": [
      "\n"
     ]
    }
   ],
   "source": [
    "for h5_path in tqdm(h5_paths):\n",
    "    rename_file_with_replace(h5_path, 'CHN00.h5', 'CHN00_aligned.hdf5')"
   ]
  },
  {
   "cell_type": "markdown",
   "metadata": {},
   "source": [
    "### Move h5 files to expected directory"
   ]
  },
  {
   "cell_type": "code",
   "execution_count": 12,
   "metadata": {},
   "outputs": [],
   "source": [
    "from analysis_toolbox.utils import create_dir\n",
    "create_dir(dir_output + 'volumes')"
   ]
  },
  {
   "cell_type": "code",
   "execution_count": 13,
   "metadata": {},
   "outputs": [
    {
     "data": {
      "text/plain": [
       "'/scratch/limj2/data/raw/20211007/fish00/5dpf_elavl3-gc8f-gfap-jregeco_MG-vs_NGGU-trunc65_fish00_exp07_20211007_215308/im_CM0_voluseg/volumes/0/'"
      ]
     },
     "execution_count": 13,
     "metadata": {},
     "output_type": "execute_result"
    }
   ],
   "source": [
    "import shutil\n",
    "\n",
    "shutil.move(src_ds_dir, dest_ds_dir)"
   ]
  },
  {
   "cell_type": "markdown",
   "metadata": {},
   "source": [
    "## Initialize parameters"
   ]
  },
  {
   "cell_type": "code",
   "execution_count": 15,
   "metadata": {},
   "outputs": [
    {
     "data": {
      "text/plain": [
       "{'detrending': 'standard',\n",
       " 'registration': 'medium',\n",
       " 'diam_cell': 6.0,\n",
       " 'dir_ants': '',\n",
       " 'dir_input': '',\n",
       " 'dir_output': '',\n",
       " 'dir_transform': '',\n",
       " 'ds': 2,\n",
       " 'planes_pad': 0,\n",
       " 'planes_packed': False,\n",
       " 'parallel_clean': True,\n",
       " 'parallel_volume': True,\n",
       " 'save_volume': False,\n",
       " 'type_timepoints': 'dff',\n",
       " 'type_mask': 'geomean',\n",
       " 'timepoints': 1000,\n",
       " 'f_hipass': 0,\n",
       " 'f_volume': 2.0,\n",
       " 'n_cells_block': 100,\n",
       " 'n_colors': 1,\n",
       " 'res_x': 0.40625,\n",
       " 'res_y': 0.40625,\n",
       " 'res_z': 5.0,\n",
       " 't_baseline': 300,\n",
       " 't_section': 0.01,\n",
       " 'thr_mask': 0.5}"
      ]
     },
     "execution_count": 15,
     "metadata": {},
     "output_type": "execute_result"
    }
   ],
   "source": [
    "from voluseg._tools.parameter_dictionary import parameter_dictionary\n",
    "parameter_dictionary()"
   ]
  },
  {
   "cell_type": "code",
   "execution_count": 16,
   "metadata": {},
   "outputs": [
    {
     "name": "stdout",
     "output_type": "stream",
     "text": [
      "fetched t_section.\n",
      "fetched res_z.\n",
      "fetched f_volume.\n",
      "Checking 'timepoints' for 'type_timepoints'='periodic'.\n",
      "parameter file successfully saved.\n",
      "parameter file successfully loaded.\n",
      "{'affine_mat': array([[  0.8125,   0.    ,   0.    ,   0.    ],\n",
      "       [  0.    ,   0.8125,   0.    ,   0.    ],\n",
      "       [  0.    ,   0.    , 100.    ,   0.    ],\n",
      "       [  0.    ,   0.    ,   0.    ,   1.    ]]),\n",
      " 'detrending': 'standard',\n",
      " 'diam_cell': 6.0,\n",
      " 'dir_ants': '',\n",
      " 'dir_input': '/scratch/limj2/data/raw/20211007/fish00/5dpf_elavl3-gc8f-gfap-jregeco_MG-vs_NGGU-trunc65_fish00_exp07_20211007_215308/im_CM0/',\n",
      " 'dir_output': '/scratch/limj2/data/raw/20211007/fish00/5dpf_elavl3-gc8f-gfap-jregeco_MG-vs_NGGU-trunc65_fish00_exp07_20211007_215308/im_CM0_voluseg/',\n",
      " 'dir_transform': '',\n",
      " 'ds': 2,\n",
      " 'ext': '.h5',\n",
      " 'f_hipass': 0,\n",
      " 'f_volume': 3.01,\n",
      " 'lt': 47767,\n",
      " 'n_cells_block': 200,\n",
      " 'n_colors': 1,\n",
      " 'parallel_clean': False,\n",
      " 'parallel_volume': False,\n",
      " 'planes_packed': False,\n",
      " 'planes_pad': 0,\n",
      " 'registration': None,\n",
      " 'res_x': 0.40625,\n",
      " 'res_y': 0.40625,\n",
      " 'res_z': 100,\n",
      " 'save_volume': False,\n",
      " 't_baseline': 300,\n",
      " 't_section': 0,\n",
      " 'thr_mask': 0.5,\n",
      " 'timepoints': 1000,\n",
      " 'type_mask': 'geomean',\n",
      " 'type_timepoints': 'periodic',\n",
      " 'volume_names': array(['TM0000000_CM0_CHN00', 'TM0000001_CM0_CHN00',\n",
      "       'TM0000002_CM0_CHN00', ..., 'TM0047764_CM0_CHN00',\n",
      "       'TM0047765_CM0_CHN00', 'TM0047766_CM0_CHN00'], dtype='<U19')}\n"
     ]
    }
   ],
   "source": [
    "# initialize_parameters.py\n",
    "\n",
    "### set these parameters ###\n",
    "channel_file = os.path.join(dir_input,'ch0.xml')\n",
    "stack_file = os.path.join(dir_input,'Stack_frequency.txt')\n",
    "### end set these parameters ###\n",
    "\n",
    "# get default parameters and set directories\n",
    "parameters0 = voluseg.parameter_dictionary()\n",
    "parameters0['dir_input'] = dir_input\n",
    "parameters0['dir_output'] = dir_output\n",
    "\n",
    "# retrieve metadata from channel and stack files\n",
    "parameters0 = voluseg.load_metadata(parameters0, channel_file, stack_file)\n",
    "\n",
    "# set other parameters as necessary\n",
    "parameters0['ds'] = 2  # default is 2 | if downsampled already, make sure this matches that\n",
    "parameters0['diam_cell'] = 6.0  #  cell_diameter = 6: 100-150k cells, cell_diameter=5: ~300-400k cells\n",
    "parameters0['n_cells_block'] = 200  # increase block size to reduce blockiness in segments\n",
    "parameters0['registration'] = 'none'  # comment or set to 'medium' to enable default (i.e. run registration)\n",
    "parameters0['parallel_volume']=False  # False if running on local workstation\n",
    "parameters0['parallel_clean']=False  # False if running on local workstation\n",
    "parameters0['type_timepoints']='periodic'\n",
    "parameters0['t_section'] = 0\n",
    "parameters0['res_z'] = 100 ## microns; manually set to ensure cells belong to a single plane\n",
    "\n",
    "# create parameter file with metadata\n",
    "voluseg.step0_process_parameters(parameters0)\n",
    "\n",
    "# check saved parameters\n",
    "parameters = voluseg.load_parameters(os.path.join(dir_output, 'parameters.pickle'))\n",
    "pprint.pprint(parameters)"
   ]
  },
  {
   "cell_type": "code",
   "execution_count": 17,
   "metadata": {},
   "outputs": [],
   "source": [
    "fix_parameters = False"
   ]
  },
  {
   "cell_type": "code",
   "execution_count": 18,
   "metadata": {
    "scrolled": true,
    "tags": []
   },
   "outputs": [
    {
     "name": "stdout",
     "output_type": "stream",
     "text": [
      "parameter file successfully loaded.\n",
      "{'affine_mat': array([[  0.8125,   0.    ,   0.    ,   0.    ],\n",
      "       [  0.    ,   0.8125,   0.    ,   0.    ],\n",
      "       [  0.    ,   0.    , 100.    ,   0.    ],\n",
      "       [  0.    ,   0.    ,   0.    ,   1.    ]]),\n",
      " 'detrending': 'standard',\n",
      " 'diam_cell': 6.0,\n",
      " 'dir_ants': '',\n",
      " 'dir_input': '/scratch/limj2/data/raw/20211007/fish00/5dpf_elavl3-gc8f-gfap-jregeco_MG-vs_NGGU-trunc65_fish00_exp07_20211007_215308/im_CM0/',\n",
      " 'dir_output': '/scratch/limj2/data/raw/20211007/fish00/5dpf_elavl3-gc8f-gfap-jregeco_MG-vs_NGGU-trunc65_fish00_exp07_20211007_215308/im_CM0_voluseg/',\n",
      " 'dir_transform': '',\n",
      " 'ds': 2,\n",
      " 'ext': '.h5',\n",
      " 'f_hipass': 0,\n",
      " 'f_volume': 3.01,\n",
      " 'lt': 47767,\n",
      " 'n_cells_block': 200,\n",
      " 'n_colors': 1,\n",
      " 'parallel_clean': False,\n",
      " 'parallel_volume': False,\n",
      " 'planes_packed': False,\n",
      " 'planes_pad': 0,\n",
      " 'registration': None,\n",
      " 'res_x': 0.40625,\n",
      " 'res_y': 0.40625,\n",
      " 'res_z': 100,\n",
      " 'save_volume': False,\n",
      " 't_baseline': 300,\n",
      " 't_section': 0,\n",
      " 'thr_mask': 0.5,\n",
      " 'timepoints': 1000,\n",
      " 'type_mask': 'geomean',\n",
      " 'type_timepoints': 'periodic',\n",
      " 'volume_names': array(['TM0000000_CM0_CHN00', 'TM0000001_CM0_CHN00',\n",
      "       'TM0000002_CM0_CHN00', ..., 'TM0047764_CM0_CHN00',\n",
      "       'TM0047765_CM0_CHN00', 'TM0047766_CM0_CHN00'], dtype='<U19')}\n"
     ]
    }
   ],
   "source": [
    "# check saved parameters\n",
    "filename_parameters = os.path.join(dir_output, 'parameters.pickle')\n",
    "\n",
    "parameters = voluseg.load_parameters(filename_parameters)\n",
    "pprint.pprint(parameters)"
   ]
  },
  {
   "cell_type": "code",
   "execution_count": 19,
   "metadata": {},
   "outputs": [
    {
     "data": {
      "text/plain": [
       "['/scratch/limj2/data/raw/20211007/fish00/5dpf_elavl3-gc8f-gfap-jregeco_MG-vs_NGGU-trunc65_fish00_exp07_20211007_215308/im_CM0_voluseg/volumes/0/TM0000000_CM0_CHN00_aligned.hdf5',\n",
       " '/scratch/limj2/data/raw/20211007/fish00/5dpf_elavl3-gc8f-gfap-jregeco_MG-vs_NGGU-trunc65_fish00_exp07_20211007_215308/im_CM0_voluseg/volumes/0/TM0000001_CM0_CHN00_aligned.hdf5',\n",
       " '/scratch/limj2/data/raw/20211007/fish00/5dpf_elavl3-gc8f-gfap-jregeco_MG-vs_NGGU-trunc65_fish00_exp07_20211007_215308/im_CM0_voluseg/volumes/0/TM0000002_CM0_CHN00_aligned.hdf5',\n",
       " '/scratch/limj2/data/raw/20211007/fish00/5dpf_elavl3-gc8f-gfap-jregeco_MG-vs_NGGU-trunc65_fish00_exp07_20211007_215308/im_CM0_voluseg/volumes/0/TM0000003_CM0_CHN00_aligned.hdf5',\n",
       " '/scratch/limj2/data/raw/20211007/fish00/5dpf_elavl3-gc8f-gfap-jregeco_MG-vs_NGGU-trunc65_fish00_exp07_20211007_215308/im_CM0_voluseg/volumes/0/TM0000004_CM0_CHN00_aligned.hdf5',\n",
       " '/scratch/limj2/data/raw/20211007/fish00/5dpf_elavl3-gc8f-gfap-jregeco_MG-vs_NGGU-trunc65_fish00_exp07_20211007_215308/im_CM0_voluseg/volumes/0/TM0000005_CM0_CHN00_aligned.hdf5',\n",
       " '/scratch/limj2/data/raw/20211007/fish00/5dpf_elavl3-gc8f-gfap-jregeco_MG-vs_NGGU-trunc65_fish00_exp07_20211007_215308/im_CM0_voluseg/volumes/0/TM0000006_CM0_CHN00_aligned.hdf5',\n",
       " '/scratch/limj2/data/raw/20211007/fish00/5dpf_elavl3-gc8f-gfap-jregeco_MG-vs_NGGU-trunc65_fish00_exp07_20211007_215308/im_CM0_voluseg/volumes/0/TM0000007_CM0_CHN00_aligned.hdf5',\n",
       " '/scratch/limj2/data/raw/20211007/fish00/5dpf_elavl3-gc8f-gfap-jregeco_MG-vs_NGGU-trunc65_fish00_exp07_20211007_215308/im_CM0_voluseg/volumes/0/TM0000008_CM0_CHN00_aligned.hdf5',\n",
       " '/scratch/limj2/data/raw/20211007/fish00/5dpf_elavl3-gc8f-gfap-jregeco_MG-vs_NGGU-trunc65_fish00_exp07_20211007_215308/im_CM0_voluseg/volumes/0/TM0000009_CM0_CHN00_aligned.hdf5']"
      ]
     },
     "execution_count": 19,
     "metadata": {},
     "output_type": "execute_result"
    }
   ],
   "source": [
    "hdf5_paths = sorted(glob(dest_ds_dir+\"*.hdf5\"))\n",
    "hdf5_paths[:10]"
   ]
  },
  {
   "cell_type": "code",
   "execution_count": 20,
   "metadata": {},
   "outputs": [
    {
     "data": {
      "application/vnd.jupyter.widget-view+json": {
       "model_id": "230453e6ceae4e128acbe4892522a985",
       "version_major": 2,
       "version_minor": 0
      },
      "text/plain": [
       "HBox(children=(HTML(value=''), FloatProgress(value=0.0, max=47767.0), HTML(value='')))"
      ]
     },
     "metadata": {},
     "output_type": "display_data"
    },
    {
     "name": "stdout",
     "output_type": "stream",
     "text": [
      "\n"
     ]
    },
    {
     "data": {
      "text/plain": [
       "['TM0000000_CM0_CHN00_aligned.hdf5',\n",
       " 'TM0000001_CM0_CHN00_aligned.hdf5',\n",
       " 'TM0000002_CM0_CHN00_aligned.hdf5',\n",
       " 'TM0000003_CM0_CHN00_aligned.hdf5',\n",
       " 'TM0000004_CM0_CHN00_aligned.hdf5',\n",
       " 'TM0000005_CM0_CHN00_aligned.hdf5',\n",
       " 'TM0000006_CM0_CHN00_aligned.hdf5',\n",
       " 'TM0000007_CM0_CHN00_aligned.hdf5',\n",
       " 'TM0000008_CM0_CHN00_aligned.hdf5',\n",
       " 'TM0000009_CM0_CHN00_aligned.hdf5']"
      ]
     },
     "execution_count": 20,
     "metadata": {},
     "output_type": "execute_result"
    }
   ],
   "source": [
    "from analysis_toolbox.utils import path_leaf\n",
    "hdf5_basenames = [path_leaf(path) for path in tqdm(hdf5_paths)]\n",
    "hdf5_basenames[:10]"
   ]
  },
  {
   "cell_type": "code",
   "execution_count": 114,
   "metadata": {},
   "outputs": [
    {
     "data": {
      "application/vnd.jupyter.widget-view+json": {
       "model_id": "6b9f5c9c33f1464f970cc21380c3c7e6",
       "version_major": 2,
       "version_minor": 0
      },
      "text/plain": [
       "HBox(children=(HTML(value=''), FloatProgress(value=0.0, max=54202.0), HTML(value='')))"
      ]
     },
     "metadata": {},
     "output_type": "display_data"
    },
    {
     "name": "stdout",
     "output_type": "stream",
     "text": [
      "\n"
     ]
    },
    {
     "data": {
      "text/plain": [
       "['TM0000000_CM1_CHN00',\n",
       " 'TM0000001_CM1_CHN00',\n",
       " 'TM0000002_CM1_CHN00',\n",
       " 'TM0000003_CM1_CHN00',\n",
       " 'TM0000004_CM1_CHN00',\n",
       " 'TM0000005_CM1_CHN00',\n",
       " 'TM0000006_CM1_CHN00',\n",
       " 'TM0000007_CM1_CHN00',\n",
       " 'TM0000008_CM1_CHN00',\n",
       " 'TM0000009_CM1_CHN00']"
      ]
     },
     "execution_count": 114,
     "metadata": {},
     "output_type": "execute_result"
    }
   ],
   "source": [
    "hf_basenames = [basename.replace('_aligned.hdf5', '') for basename in tqdm(hdf5_basenames)]\n",
    "hf_basenames[:10]"
   ]
  },
  {
   "cell_type": "code",
   "execution_count": 115,
   "metadata": {},
   "outputs": [
    {
     "data": {
      "text/plain": [
       "54202"
      ]
     },
     "execution_count": 115,
     "metadata": {},
     "output_type": "execute_result"
    }
   ],
   "source": [
    "lt = len(hf_basenames)\n",
    "lt"
   ]
  },
  {
   "cell_type": "code",
   "execution_count": 117,
   "metadata": {},
   "outputs": [
    {
     "data": {
      "text/plain": [
       "1000"
      ]
     },
     "execution_count": 117,
     "metadata": {},
     "output_type": "execute_result"
    }
   ],
   "source": [
    "parameters['timepoints'] = parameter_dictionary()['timepoints']\n",
    "parameters['timepoints']"
   ]
  },
  {
   "cell_type": "code",
   "execution_count": 118,
   "metadata": {},
   "outputs": [
    {
     "name": "stdout",
     "output_type": "stream",
     "text": [
      "Checking 'timepoints' for 'type_timepoints'='periodic'.\n",
      "1000\n"
     ]
    }
   ],
   "source": [
    "# check timepoints\n",
    "parameters['type_timepoints'] = parameters['type_timepoints'].lower()\n",
    "if not parameters['type_timepoints'] in ['dff', 'periodic', 'custom']:\n",
    "    raise Exception('\\'type_timepoints\\' must be \\'dff\\', \\'periodic\\' or \\'custom\\'.')\n",
    "else:\n",
    "    print('Checking \\'timepoints\\' for \\'type_timepoints\\'=\\'%s\\'.'%parameters['type_timepoints'])\n",
    "    tp = parameters['timepoints']\n",
    "    if parameters['type_timepoints'] in ['dff', 'periodic']:\n",
    "        if not (np.isscalar(tp) and (tp >= 0) and (tp == np.round(tp))):\n",
    "            raise Exception('\\'timepoints\\' must be a nonnegative integer.')\n",
    "        elif tp >= lt:\n",
    "            warn('specified number of timepoints is greater than the number of volumes, overriding.')\n",
    "            tp = 0\n",
    "    elif parameters['type_timepoints'] in ['custom']:\n",
    "        tp = np.unique(tp)\n",
    "        if not ((np.ndim(tp) == 1) and np.all(tp >= 0) and np.all(tp == np.round(tp))):\n",
    "            raise Exception('\\'timepoints\\' must be a one-dimensional vector of nonnegative integers.')\n",
    "        elif np.any(tp >= lt):\n",
    "            warn('discarding timepoints that exceed the number of volumes.')\n",
    "            tp = tp[tp < lt]\n",
    "        tp = tp.astype(int)\n",
    "        \n",
    "print(tp)"
   ]
  },
  {
   "cell_type": "code",
   "execution_count": 119,
   "metadata": {},
   "outputs": [],
   "source": [
    "parameters['volume_names'] = hf_basenames\n",
    "parameters['lt'] = lt\n",
    "parameters['timepoints'] = tp\n",
    "parameters['ext'] = '.h5'"
   ]
  },
  {
   "cell_type": "code",
   "execution_count": 120,
   "metadata": {},
   "outputs": [
    {
     "name": "stdout",
     "output_type": "stream",
     "text": [
      "parameter file successfully saved.\n"
     ]
    }
   ],
   "source": [
    "if fix_parameters:\n",
    "    \n",
    "    import pickle\n",
    "    os.remove(filename_parameters)\n",
    "    \n",
    "    with open(filename_parameters, 'wb') as file_handle:\n",
    "        pickle.dump(parameters, file_handle)\n",
    "        print('parameter file successfully saved.')"
   ]
  },
  {
   "cell_type": "markdown",
   "metadata": {},
   "source": [
    "## Run the pipeline"
   ]
  },
  {
   "cell_type": "code",
   "execution_count": 7,
   "metadata": {},
   "outputs": [
    {
     "data": {
      "text/plain": [
       "'/scratch/limj2/data/raw/20211007/fish00/5dpf_elavl3-gc8f-gfap-jregeco_MG-vs_NGGU-trunc65_fish00_exp07_20211007_215308/im_CM0_voluseg/prepro.output'"
      ]
     },
     "execution_count": 7,
     "metadata": {},
     "output_type": "execute_result"
    }
   ],
   "source": [
    "file_output = os.path.join(dir_output, 'prepro.output')\n",
    "file_output"
   ]
  },
  {
   "cell_type": "markdown",
   "metadata": {},
   "source": [
    "### Load parameters"
   ]
  },
  {
   "cell_type": "code",
   "execution_count": 8,
   "metadata": {},
   "outputs": [
    {
     "name": "stdout",
     "output_type": "stream",
     "text": [
      "parameter file successfully loaded.\n"
     ]
    }
   ],
   "source": [
    "# voluseg_submit.py\n",
    "\n",
    "parameters = voluseg.load_parameters(os.path.join(dir_output, 'parameters.pickle'))\n",
    "with open(file_output, 'a') as fh:\n",
    "    pprint.pprint(parameters, fh)"
   ]
  },
  {
   "cell_type": "code",
   "execution_count": 9,
   "metadata": {},
   "outputs": [
    {
     "data": {
      "text/html": [
       "<table>\n",
       "<tr>\n",
       "<td>\n",
       "<table>\n",
       "  <thead>\n",
       "    <tr><td> </td><th> Array </th><th> Chunk </th></tr>\n",
       "  </thead>\n",
       "  <tbody>\n",
       "    <tr><th> Bytes </th><td> 11.86 TB </td> <td> 391.31 MB </td></tr>\n",
       "    <tr><th> Shape </th><td> (47767, 53, 572, 1024) </td> <td> (47767, 1, 32, 32) </td></tr>\n",
       "    <tr><th> Count </th><td> 30528 Tasks </td><td> 30528 Chunks </td></tr>\n",
       "    <tr><th> Type </th><td> float64 </td><td> numpy.ndarray </td></tr>\n",
       "  </tbody>\n",
       "</table>\n",
       "</td>\n",
       "<td>\n",
       "<svg width=\"474\" height=\"91\" style=\"stroke:rgb(0,0,0);stroke-width:1\" >\n",
       "\n",
       "  <!-- Horizontal lines -->\n",
       "  <line x1=\"0\" y1=\"0\" x2=\"120\" y2=\"0\" style=\"stroke-width:2\" />\n",
       "  <line x1=\"0\" y1=\"25\" x2=\"120\" y2=\"25\" style=\"stroke-width:2\" />\n",
       "\n",
       "  <!-- Vertical lines -->\n",
       "  <line x1=\"0\" y1=\"0\" x2=\"0\" y2=\"25\" style=\"stroke-width:2\" />\n",
       "  <line x1=\"120\" y1=\"0\" x2=\"120\" y2=\"25\" style=\"stroke-width:2\" />\n",
       "\n",
       "  <!-- Colored Rectangle -->\n",
       "  <polygon points=\"0.0,0.0 120.0,0.0 120.0,25.412616514582485 0.0,25.412616514582485\" style=\"fill:#ECB172A0;stroke-width:0\"/>\n",
       "\n",
       "  <!-- Text -->\n",
       "  <text x=\"60.000000\" y=\"45.412617\" font-size=\"1.0rem\" font-weight=\"100\" text-anchor=\"middle\" >47767</text>\n",
       "  <text x=\"140.000000\" y=\"12.706308\" font-size=\"1.0rem\" font-weight=\"100\" text-anchor=\"middle\" transform=\"rotate(0,140.000000,12.706308)\">1</text>\n",
       "\n",
       "\n",
       "  <!-- Horizontal lines -->\n",
       "  <line x1=\"190\" y1=\"0\" x2=\"204\" y2=\"14\" style=\"stroke-width:2\" />\n",
       "  <line x1=\"190\" y1=\"1\" x2=\"204\" y2=\"16\" />\n",
       "  <line x1=\"190\" y1=\"2\" x2=\"204\" y2=\"17\" />\n",
       "  <line x1=\"190\" y1=\"4\" x2=\"204\" y2=\"19\" />\n",
       "  <line x1=\"190\" y1=\"5\" x2=\"204\" y2=\"20\" />\n",
       "  <line x1=\"190\" y1=\"7\" x2=\"204\" y2=\"22\" />\n",
       "  <line x1=\"190\" y1=\"8\" x2=\"204\" y2=\"23\" />\n",
       "  <line x1=\"190\" y1=\"10\" x2=\"204\" y2=\"25\" />\n",
       "  <line x1=\"190\" y1=\"11\" x2=\"204\" y2=\"26\" />\n",
       "  <line x1=\"190\" y1=\"13\" x2=\"204\" y2=\"28\" />\n",
       "  <line x1=\"190\" y1=\"14\" x2=\"204\" y2=\"29\" />\n",
       "  <line x1=\"190\" y1=\"16\" x2=\"204\" y2=\"31\" />\n",
       "  <line x1=\"190\" y1=\"17\" x2=\"204\" y2=\"32\" />\n",
       "  <line x1=\"190\" y1=\"19\" x2=\"204\" y2=\"34\" />\n",
       "  <line x1=\"190\" y1=\"20\" x2=\"204\" y2=\"35\" />\n",
       "  <line x1=\"190\" y1=\"22\" x2=\"204\" y2=\"37\" />\n",
       "  <line x1=\"190\" y1=\"23\" x2=\"204\" y2=\"38\" />\n",
       "  <line x1=\"190\" y1=\"25\" x2=\"204\" y2=\"39\" />\n",
       "  <line x1=\"190\" y1=\"26\" x2=\"204\" y2=\"41\" style=\"stroke-width:2\" />\n",
       "\n",
       "  <!-- Vertical lines -->\n",
       "  <line x1=\"190\" y1=\"0\" x2=\"190\" y2=\"26\" style=\"stroke-width:2\" />\n",
       "  <line x1=\"190\" y1=\"0\" x2=\"190\" y2=\"26\" />\n",
       "  <line x1=\"190\" y1=\"0\" x2=\"190\" y2=\"27\" />\n",
       "  <line x1=\"191\" y1=\"1\" x2=\"191\" y2=\"27\" />\n",
       "  <line x1=\"191\" y1=\"1\" x2=\"191\" y2=\"27\" />\n",
       "  <line x1=\"192\" y1=\"2\" x2=\"192\" y2=\"28\" />\n",
       "  <line x1=\"192\" y1=\"2\" x2=\"192\" y2=\"28\" />\n",
       "  <line x1=\"193\" y1=\"3\" x2=\"193\" y2=\"29\" />\n",
       "  <line x1=\"193\" y1=\"3\" x2=\"193\" y2=\"29\" />\n",
       "  <line x1=\"193\" y1=\"3\" x2=\"193\" y2=\"30\" />\n",
       "  <line x1=\"194\" y1=\"4\" x2=\"194\" y2=\"30\" />\n",
       "  <line x1=\"195\" y1=\"5\" x2=\"195\" y2=\"31\" />\n",
       "  <line x1=\"195\" y1=\"5\" x2=\"195\" y2=\"31\" />\n",
       "  <line x1=\"195\" y1=\"5\" x2=\"195\" y2=\"32\" />\n",
       "  <line x1=\"196\" y1=\"6\" x2=\"196\" y2=\"32\" />\n",
       "  <line x1=\"196\" y1=\"6\" x2=\"196\" y2=\"33\" />\n",
       "  <line x1=\"197\" y1=\"7\" x2=\"197\" y2=\"33\" />\n",
       "  <line x1=\"197\" y1=\"7\" x2=\"197\" y2=\"34\" />\n",
       "  <line x1=\"198\" y1=\"8\" x2=\"198\" y2=\"34\" />\n",
       "  <line x1=\"198\" y1=\"8\" x2=\"198\" y2=\"35\" />\n",
       "  <line x1=\"199\" y1=\"9\" x2=\"199\" y2=\"35\" />\n",
       "  <line x1=\"199\" y1=\"9\" x2=\"199\" y2=\"35\" />\n",
       "  <line x1=\"200\" y1=\"10\" x2=\"200\" y2=\"36\" />\n",
       "  <line x1=\"200\" y1=\"10\" x2=\"200\" y2=\"37\" />\n",
       "  <line x1=\"200\" y1=\"10\" x2=\"200\" y2=\"37\" />\n",
       "  <line x1=\"201\" y1=\"11\" x2=\"201\" y2=\"37\" />\n",
       "  <line x1=\"202\" y1=\"12\" x2=\"202\" y2=\"38\" />\n",
       "  <line x1=\"202\" y1=\"12\" x2=\"202\" y2=\"38\" />\n",
       "  <line x1=\"202\" y1=\"12\" x2=\"202\" y2=\"39\" />\n",
       "  <line x1=\"203\" y1=\"13\" x2=\"203\" y2=\"39\" />\n",
       "  <line x1=\"203\" y1=\"13\" x2=\"203\" y2=\"40\" />\n",
       "  <line x1=\"204\" y1=\"14\" x2=\"204\" y2=\"40\" />\n",
       "  <line x1=\"204\" y1=\"14\" x2=\"204\" y2=\"41\" style=\"stroke-width:2\" />\n",
       "\n",
       "  <!-- Colored Rectangle -->\n",
       "  <polygon points=\"190.0,0.0 204.9485979497544,14.948597949754403 204.9485979497544,41.24479717332445 190.0,26.296199223570046\" style=\"fill:#8B4903A0;stroke-width:0\"/>\n",
       "\n",
       "  <!-- Horizontal lines -->\n",
       "  <line x1=\"190\" y1=\"0\" x2=\"219\" y2=\"0\" style=\"stroke-width:2\" />\n",
       "  <line x1=\"190\" y1=\"0\" x2=\"219\" y2=\"0\" />\n",
       "  <line x1=\"190\" y1=\"0\" x2=\"220\" y2=\"0\" />\n",
       "  <line x1=\"191\" y1=\"1\" x2=\"220\" y2=\"1\" />\n",
       "  <line x1=\"191\" y1=\"1\" x2=\"221\" y2=\"1\" />\n",
       "  <line x1=\"192\" y1=\"2\" x2=\"221\" y2=\"2\" />\n",
       "  <line x1=\"192\" y1=\"2\" x2=\"221\" y2=\"2\" />\n",
       "  <line x1=\"193\" y1=\"3\" x2=\"222\" y2=\"3\" />\n",
       "  <line x1=\"193\" y1=\"3\" x2=\"223\" y2=\"3\" />\n",
       "  <line x1=\"193\" y1=\"3\" x2=\"223\" y2=\"3\" />\n",
       "  <line x1=\"194\" y1=\"4\" x2=\"223\" y2=\"4\" />\n",
       "  <line x1=\"195\" y1=\"5\" x2=\"224\" y2=\"5\" />\n",
       "  <line x1=\"195\" y1=\"5\" x2=\"224\" y2=\"5\" />\n",
       "  <line x1=\"195\" y1=\"5\" x2=\"225\" y2=\"5\" />\n",
       "  <line x1=\"196\" y1=\"6\" x2=\"225\" y2=\"6\" />\n",
       "  <line x1=\"196\" y1=\"6\" x2=\"226\" y2=\"6\" />\n",
       "  <line x1=\"197\" y1=\"7\" x2=\"226\" y2=\"7\" />\n",
       "  <line x1=\"197\" y1=\"7\" x2=\"227\" y2=\"7\" />\n",
       "  <line x1=\"198\" y1=\"8\" x2=\"227\" y2=\"8\" />\n",
       "  <line x1=\"198\" y1=\"8\" x2=\"228\" y2=\"8\" />\n",
       "  <line x1=\"199\" y1=\"9\" x2=\"228\" y2=\"9\" />\n",
       "  <line x1=\"199\" y1=\"9\" x2=\"229\" y2=\"9\" />\n",
       "  <line x1=\"200\" y1=\"10\" x2=\"229\" y2=\"10\" />\n",
       "  <line x1=\"200\" y1=\"10\" x2=\"230\" y2=\"10\" />\n",
       "  <line x1=\"200\" y1=\"10\" x2=\"230\" y2=\"10\" />\n",
       "  <line x1=\"201\" y1=\"11\" x2=\"230\" y2=\"11\" />\n",
       "  <line x1=\"202\" y1=\"12\" x2=\"231\" y2=\"12\" />\n",
       "  <line x1=\"202\" y1=\"12\" x2=\"231\" y2=\"12\" />\n",
       "  <line x1=\"202\" y1=\"12\" x2=\"232\" y2=\"12\" />\n",
       "  <line x1=\"203\" y1=\"13\" x2=\"232\" y2=\"13\" />\n",
       "  <line x1=\"203\" y1=\"13\" x2=\"233\" y2=\"13\" />\n",
       "  <line x1=\"204\" y1=\"14\" x2=\"233\" y2=\"14\" />\n",
       "  <line x1=\"204\" y1=\"14\" x2=\"234\" y2=\"14\" style=\"stroke-width:2\" />\n",
       "\n",
       "  <!-- Vertical lines -->\n",
       "  <line x1=\"190\" y1=\"0\" x2=\"204\" y2=\"14\" style=\"stroke-width:2\" />\n",
       "  <line x1=\"190\" y1=\"0\" x2=\"205\" y2=\"14\" />\n",
       "  <line x1=\"191\" y1=\"0\" x2=\"206\" y2=\"14\" />\n",
       "  <line x1=\"192\" y1=\"0\" x2=\"207\" y2=\"14\" />\n",
       "  <line x1=\"193\" y1=\"0\" x2=\"208\" y2=\"14\" />\n",
       "  <line x1=\"194\" y1=\"0\" x2=\"209\" y2=\"14\" />\n",
       "  <line x1=\"195\" y1=\"0\" x2=\"210\" y2=\"14\" />\n",
       "  <line x1=\"196\" y1=\"0\" x2=\"211\" y2=\"14\" />\n",
       "  <line x1=\"197\" y1=\"0\" x2=\"212\" y2=\"14\" />\n",
       "  <line x1=\"198\" y1=\"0\" x2=\"213\" y2=\"14\" />\n",
       "  <line x1=\"199\" y1=\"0\" x2=\"214\" y2=\"14\" />\n",
       "  <line x1=\"200\" y1=\"0\" x2=\"215\" y2=\"14\" />\n",
       "  <line x1=\"201\" y1=\"0\" x2=\"215\" y2=\"14\" />\n",
       "  <line x1=\"201\" y1=\"0\" x2=\"216\" y2=\"14\" />\n",
       "  <line x1=\"202\" y1=\"0\" x2=\"217\" y2=\"14\" />\n",
       "  <line x1=\"203\" y1=\"0\" x2=\"218\" y2=\"14\" />\n",
       "  <line x1=\"204\" y1=\"0\" x2=\"219\" y2=\"14\" />\n",
       "  <line x1=\"205\" y1=\"0\" x2=\"220\" y2=\"14\" />\n",
       "  <line x1=\"206\" y1=\"0\" x2=\"221\" y2=\"14\" />\n",
       "  <line x1=\"207\" y1=\"0\" x2=\"222\" y2=\"14\" />\n",
       "  <line x1=\"208\" y1=\"0\" x2=\"223\" y2=\"14\" />\n",
       "  <line x1=\"209\" y1=\"0\" x2=\"224\" y2=\"14\" />\n",
       "  <line x1=\"210\" y1=\"0\" x2=\"225\" y2=\"14\" />\n",
       "  <line x1=\"211\" y1=\"0\" x2=\"226\" y2=\"14\" />\n",
       "  <line x1=\"212\" y1=\"0\" x2=\"227\" y2=\"14\" />\n",
       "  <line x1=\"212\" y1=\"0\" x2=\"227\" y2=\"14\" />\n",
       "  <line x1=\"213\" y1=\"0\" x2=\"228\" y2=\"14\" />\n",
       "  <line x1=\"214\" y1=\"0\" x2=\"229\" y2=\"14\" />\n",
       "  <line x1=\"215\" y1=\"0\" x2=\"230\" y2=\"14\" />\n",
       "  <line x1=\"216\" y1=\"0\" x2=\"231\" y2=\"14\" />\n",
       "  <line x1=\"217\" y1=\"0\" x2=\"232\" y2=\"14\" />\n",
       "  <line x1=\"218\" y1=\"0\" x2=\"233\" y2=\"14\" />\n",
       "  <line x1=\"219\" y1=\"0\" x2=\"234\" y2=\"14\" style=\"stroke-width:2\" />\n",
       "\n",
       "  <!-- Colored Rectangle -->\n",
       "  <polygon points=\"190.0,0.0 219.4237249943082,0.0 234.3723229440626,14.948597949754403 204.9485979497544,14.948597949754403\" style=\"fill:#8B4903A0;stroke-width:0\"/>\n",
       "\n",
       "  <!-- Horizontal lines -->\n",
       "  <line x1=\"204\" y1=\"14\" x2=\"234\" y2=\"14\" style=\"stroke-width:2\" />\n",
       "  <line x1=\"204\" y1=\"16\" x2=\"234\" y2=\"16\" />\n",
       "  <line x1=\"204\" y1=\"17\" x2=\"234\" y2=\"17\" />\n",
       "  <line x1=\"204\" y1=\"19\" x2=\"234\" y2=\"19\" />\n",
       "  <line x1=\"204\" y1=\"20\" x2=\"234\" y2=\"20\" />\n",
       "  <line x1=\"204\" y1=\"22\" x2=\"234\" y2=\"22\" />\n",
       "  <line x1=\"204\" y1=\"23\" x2=\"234\" y2=\"23\" />\n",
       "  <line x1=\"204\" y1=\"25\" x2=\"234\" y2=\"25\" />\n",
       "  <line x1=\"204\" y1=\"26\" x2=\"234\" y2=\"26\" />\n",
       "  <line x1=\"204\" y1=\"28\" x2=\"234\" y2=\"28\" />\n",
       "  <line x1=\"204\" y1=\"29\" x2=\"234\" y2=\"29\" />\n",
       "  <line x1=\"204\" y1=\"31\" x2=\"234\" y2=\"31\" />\n",
       "  <line x1=\"204\" y1=\"32\" x2=\"234\" y2=\"32\" />\n",
       "  <line x1=\"204\" y1=\"34\" x2=\"234\" y2=\"34\" />\n",
       "  <line x1=\"204\" y1=\"35\" x2=\"234\" y2=\"35\" />\n",
       "  <line x1=\"204\" y1=\"37\" x2=\"234\" y2=\"37\" />\n",
       "  <line x1=\"204\" y1=\"38\" x2=\"234\" y2=\"38\" />\n",
       "  <line x1=\"204\" y1=\"39\" x2=\"234\" y2=\"39\" />\n",
       "  <line x1=\"204\" y1=\"41\" x2=\"234\" y2=\"41\" style=\"stroke-width:2\" />\n",
       "\n",
       "  <!-- Vertical lines -->\n",
       "  <line x1=\"204\" y1=\"14\" x2=\"204\" y2=\"41\" style=\"stroke-width:2\" />\n",
       "  <line x1=\"205\" y1=\"14\" x2=\"205\" y2=\"41\" />\n",
       "  <line x1=\"206\" y1=\"14\" x2=\"206\" y2=\"41\" />\n",
       "  <line x1=\"207\" y1=\"14\" x2=\"207\" y2=\"41\" />\n",
       "  <line x1=\"208\" y1=\"14\" x2=\"208\" y2=\"41\" />\n",
       "  <line x1=\"209\" y1=\"14\" x2=\"209\" y2=\"41\" />\n",
       "  <line x1=\"210\" y1=\"14\" x2=\"210\" y2=\"41\" />\n",
       "  <line x1=\"211\" y1=\"14\" x2=\"211\" y2=\"41\" />\n",
       "  <line x1=\"212\" y1=\"14\" x2=\"212\" y2=\"41\" />\n",
       "  <line x1=\"213\" y1=\"14\" x2=\"213\" y2=\"41\" />\n",
       "  <line x1=\"214\" y1=\"14\" x2=\"214\" y2=\"41\" />\n",
       "  <line x1=\"215\" y1=\"14\" x2=\"215\" y2=\"41\" />\n",
       "  <line x1=\"215\" y1=\"14\" x2=\"215\" y2=\"41\" />\n",
       "  <line x1=\"216\" y1=\"14\" x2=\"216\" y2=\"41\" />\n",
       "  <line x1=\"217\" y1=\"14\" x2=\"217\" y2=\"41\" />\n",
       "  <line x1=\"218\" y1=\"14\" x2=\"218\" y2=\"41\" />\n",
       "  <line x1=\"219\" y1=\"14\" x2=\"219\" y2=\"41\" />\n",
       "  <line x1=\"220\" y1=\"14\" x2=\"220\" y2=\"41\" />\n",
       "  <line x1=\"221\" y1=\"14\" x2=\"221\" y2=\"41\" />\n",
       "  <line x1=\"222\" y1=\"14\" x2=\"222\" y2=\"41\" />\n",
       "  <line x1=\"223\" y1=\"14\" x2=\"223\" y2=\"41\" />\n",
       "  <line x1=\"224\" y1=\"14\" x2=\"224\" y2=\"41\" />\n",
       "  <line x1=\"225\" y1=\"14\" x2=\"225\" y2=\"41\" />\n",
       "  <line x1=\"226\" y1=\"14\" x2=\"226\" y2=\"41\" />\n",
       "  <line x1=\"227\" y1=\"14\" x2=\"227\" y2=\"41\" />\n",
       "  <line x1=\"227\" y1=\"14\" x2=\"227\" y2=\"41\" />\n",
       "  <line x1=\"228\" y1=\"14\" x2=\"228\" y2=\"41\" />\n",
       "  <line x1=\"229\" y1=\"14\" x2=\"229\" y2=\"41\" />\n",
       "  <line x1=\"230\" y1=\"14\" x2=\"230\" y2=\"41\" />\n",
       "  <line x1=\"231\" y1=\"14\" x2=\"231\" y2=\"41\" />\n",
       "  <line x1=\"232\" y1=\"14\" x2=\"232\" y2=\"41\" />\n",
       "  <line x1=\"233\" y1=\"14\" x2=\"233\" y2=\"41\" />\n",
       "  <line x1=\"234\" y1=\"14\" x2=\"234\" y2=\"41\" style=\"stroke-width:2\" />\n",
       "\n",
       "  <!-- Colored Rectangle -->\n",
       "  <polygon points=\"204.9485979497544,14.948597949754403 234.3723229440626,14.948597949754403 234.3723229440626,41.24479717332445 204.9485979497544,41.24479717332445\" style=\"fill:#8B4903A0;stroke-width:0\"/>\n",
       "\n",
       "  <!-- Text -->\n",
       "  <text x=\"219.660460\" y=\"61.244797\" font-size=\"1.0rem\" font-weight=\"100\" text-anchor=\"middle\" >1024</text>\n",
       "  <text x=\"254.372323\" y=\"28.096698\" font-size=\"1.0rem\" font-weight=\"100\" text-anchor=\"middle\" transform=\"rotate(-90,254.372323,28.096698)\">572</text>\n",
       "  <text x=\"187.474299\" y=\"53.770498\" font-size=\"1.0rem\" font-weight=\"100\" text-anchor=\"middle\" transform=\"rotate(45,187.474299,53.770498)\">53</text>\n",
       "</svg>\n",
       "</td>\n",
       "</tr>\n",
       "</table>"
      ],
      "text/plain": [
       "dask.array<from-zarr, shape=(47767, 53, 572, 1024), dtype=float64, chunksize=(47767, 1, 32, 32), chunktype=numpy.ndarray>"
      ]
     },
     "metadata": {},
     "output_type": "display_data"
    },
    {
     "data": {
      "text/html": [
       "<table>\n",
       "<tr>\n",
       "<td>\n",
       "<table>\n",
       "  <thead>\n",
       "    <tr><td> </td><th> Array </th><th> Chunk </th></tr>\n",
       "  </thead>\n",
       "  <tbody>\n",
       "    <tr><th> Bytes </th><td> 11.86 TB </td> <td> 248.35 MB </td></tr>\n",
       "    <tr><th> Shape </th><td> (47767, 53, 572, 1024) </td> <td> (1, 53, 572, 1024) </td></tr>\n",
       "    <tr><th> Count </th><td> 47767 Tasks </td><td> 47767 Chunks </td></tr>\n",
       "    <tr><th> Type </th><td> float64 </td><td> numpy.ndarray </td></tr>\n",
       "  </tbody>\n",
       "</table>\n",
       "</td>\n",
       "<td>\n",
       "<svg width=\"474\" height=\"91\" style=\"stroke:rgb(0,0,0);stroke-width:1\" >\n",
       "\n",
       "  <!-- Horizontal lines -->\n",
       "  <line x1=\"0\" y1=\"0\" x2=\"120\" y2=\"0\" style=\"stroke-width:2\" />\n",
       "  <line x1=\"0\" y1=\"25\" x2=\"120\" y2=\"25\" style=\"stroke-width:2\" />\n",
       "\n",
       "  <!-- Vertical lines -->\n",
       "  <line x1=\"0\" y1=\"0\" x2=\"0\" y2=\"25\" style=\"stroke-width:2\" />\n",
       "  <line x1=\"3\" y1=\"0\" x2=\"3\" y2=\"25\" />\n",
       "  <line x1=\"7\" y1=\"0\" x2=\"7\" y2=\"25\" />\n",
       "  <line x1=\"11\" y1=\"0\" x2=\"11\" y2=\"25\" />\n",
       "  <line x1=\"14\" y1=\"0\" x2=\"14\" y2=\"25\" />\n",
       "  <line x1=\"18\" y1=\"0\" x2=\"18\" y2=\"25\" />\n",
       "  <line x1=\"22\" y1=\"0\" x2=\"22\" y2=\"25\" />\n",
       "  <line x1=\"26\" y1=\"0\" x2=\"26\" y2=\"25\" />\n",
       "  <line x1=\"29\" y1=\"0\" x2=\"29\" y2=\"25\" />\n",
       "  <line x1=\"33\" y1=\"0\" x2=\"33\" y2=\"25\" />\n",
       "  <line x1=\"37\" y1=\"0\" x2=\"37\" y2=\"25\" />\n",
       "  <line x1=\"41\" y1=\"0\" x2=\"41\" y2=\"25\" />\n",
       "  <line x1=\"44\" y1=\"0\" x2=\"44\" y2=\"25\" />\n",
       "  <line x1=\"48\" y1=\"0\" x2=\"48\" y2=\"25\" />\n",
       "  <line x1=\"52\" y1=\"0\" x2=\"52\" y2=\"25\" />\n",
       "  <line x1=\"56\" y1=\"0\" x2=\"56\" y2=\"25\" />\n",
       "  <line x1=\"59\" y1=\"0\" x2=\"59\" y2=\"25\" />\n",
       "  <line x1=\"63\" y1=\"0\" x2=\"63\" y2=\"25\" />\n",
       "  <line x1=\"67\" y1=\"0\" x2=\"67\" y2=\"25\" />\n",
       "  <line x1=\"71\" y1=\"0\" x2=\"71\" y2=\"25\" />\n",
       "  <line x1=\"74\" y1=\"0\" x2=\"74\" y2=\"25\" />\n",
       "  <line x1=\"78\" y1=\"0\" x2=\"78\" y2=\"25\" />\n",
       "  <line x1=\"82\" y1=\"0\" x2=\"82\" y2=\"25\" />\n",
       "  <line x1=\"86\" y1=\"0\" x2=\"86\" y2=\"25\" />\n",
       "  <line x1=\"89\" y1=\"0\" x2=\"89\" y2=\"25\" />\n",
       "  <line x1=\"93\" y1=\"0\" x2=\"93\" y2=\"25\" />\n",
       "  <line x1=\"97\" y1=\"0\" x2=\"97\" y2=\"25\" />\n",
       "  <line x1=\"101\" y1=\"0\" x2=\"101\" y2=\"25\" />\n",
       "  <line x1=\"104\" y1=\"0\" x2=\"104\" y2=\"25\" />\n",
       "  <line x1=\"108\" y1=\"0\" x2=\"108\" y2=\"25\" />\n",
       "  <line x1=\"112\" y1=\"0\" x2=\"112\" y2=\"25\" />\n",
       "  <line x1=\"116\" y1=\"0\" x2=\"116\" y2=\"25\" />\n",
       "  <line x1=\"120\" y1=\"0\" x2=\"120\" y2=\"25\" style=\"stroke-width:2\" />\n",
       "\n",
       "  <!-- Colored Rectangle -->\n",
       "  <polygon points=\"0.0,0.0 120.0,0.0 120.0,25.412616514582485 0.0,25.412616514582485\" style=\"fill:#8B4903A0;stroke-width:0\"/>\n",
       "\n",
       "  <!-- Text -->\n",
       "  <text x=\"60.000000\" y=\"45.412617\" font-size=\"1.0rem\" font-weight=\"100\" text-anchor=\"middle\" >47767</text>\n",
       "  <text x=\"140.000000\" y=\"12.706308\" font-size=\"1.0rem\" font-weight=\"100\" text-anchor=\"middle\" transform=\"rotate(0,140.000000,12.706308)\">1</text>\n",
       "\n",
       "\n",
       "  <!-- Horizontal lines -->\n",
       "  <line x1=\"190\" y1=\"0\" x2=\"204\" y2=\"14\" style=\"stroke-width:2\" />\n",
       "  <line x1=\"190\" y1=\"26\" x2=\"204\" y2=\"41\" style=\"stroke-width:2\" />\n",
       "\n",
       "  <!-- Vertical lines -->\n",
       "  <line x1=\"190\" y1=\"0\" x2=\"190\" y2=\"26\" style=\"stroke-width:2\" />\n",
       "  <line x1=\"204\" y1=\"14\" x2=\"204\" y2=\"41\" style=\"stroke-width:2\" />\n",
       "\n",
       "  <!-- Colored Rectangle -->\n",
       "  <polygon points=\"190.0,0.0 204.9485979497544,14.948597949754403 204.9485979497544,41.24479717332445 190.0,26.296199223570046\" style=\"fill:#ECB172A0;stroke-width:0\"/>\n",
       "\n",
       "  <!-- Horizontal lines -->\n",
       "  <line x1=\"190\" y1=\"0\" x2=\"219\" y2=\"0\" style=\"stroke-width:2\" />\n",
       "  <line x1=\"204\" y1=\"14\" x2=\"234\" y2=\"14\" style=\"stroke-width:2\" />\n",
       "\n",
       "  <!-- Vertical lines -->\n",
       "  <line x1=\"190\" y1=\"0\" x2=\"204\" y2=\"14\" style=\"stroke-width:2\" />\n",
       "  <line x1=\"219\" y1=\"0\" x2=\"234\" y2=\"14\" style=\"stroke-width:2\" />\n",
       "\n",
       "  <!-- Colored Rectangle -->\n",
       "  <polygon points=\"190.0,0.0 219.4237249943082,0.0 234.3723229440626,14.948597949754403 204.9485979497544,14.948597949754403\" style=\"fill:#ECB172A0;stroke-width:0\"/>\n",
       "\n",
       "  <!-- Horizontal lines -->\n",
       "  <line x1=\"204\" y1=\"14\" x2=\"234\" y2=\"14\" style=\"stroke-width:2\" />\n",
       "  <line x1=\"204\" y1=\"41\" x2=\"234\" y2=\"41\" style=\"stroke-width:2\" />\n",
       "\n",
       "  <!-- Vertical lines -->\n",
       "  <line x1=\"204\" y1=\"14\" x2=\"204\" y2=\"41\" style=\"stroke-width:2\" />\n",
       "  <line x1=\"234\" y1=\"14\" x2=\"234\" y2=\"41\" style=\"stroke-width:2\" />\n",
       "\n",
       "  <!-- Colored Rectangle -->\n",
       "  <polygon points=\"204.9485979497544,14.948597949754403 234.3723229440626,14.948597949754403 234.3723229440626,41.24479717332445 204.9485979497544,41.24479717332445\" style=\"fill:#ECB172A0;stroke-width:0\"/>\n",
       "\n",
       "  <!-- Text -->\n",
       "  <text x=\"219.660460\" y=\"61.244797\" font-size=\"1.0rem\" font-weight=\"100\" text-anchor=\"middle\" >1024</text>\n",
       "  <text x=\"254.372323\" y=\"28.096698\" font-size=\"1.0rem\" font-weight=\"100\" text-anchor=\"middle\" transform=\"rotate(-90,254.372323,28.096698)\">572</text>\n",
       "  <text x=\"187.474299\" y=\"53.770498\" font-size=\"1.0rem\" font-weight=\"100\" text-anchor=\"middle\" transform=\"rotate(45,187.474299,53.770498)\">53</text>\n",
       "</svg>\n",
       "</td>\n",
       "</tr>\n",
       "</table>"
      ],
      "text/plain": [
       "dask.array<from-zarr, shape=(47767, 53, 572, 1024), dtype=float64, chunksize=(1, 53, 572, 1024), chunktype=numpy.ndarray>"
      ]
     },
     "metadata": {},
     "output_type": "display_data"
    }
   ],
   "source": [
    "## Prepare data\n",
    "data_cis_da = da.from_zarr(data_cis, inline_array=True)\n",
    "data_cit_da = da.from_zarr(data_cit, inline_array=True)\n",
    "\n",
    "display(data_cis_da)\n",
    "display(data_cit_da)"
   ]
  },
  {
   "cell_type": "code",
   "execution_count": 10,
   "metadata": {},
   "outputs": [],
   "source": [
    "import os\n",
    "import h5py\n",
    "import numpy as np\n",
    "import pandas as pd\n",
    "import time\n",
    "from types import SimpleNamespace"
   ]
  },
  {
   "cell_type": "markdown",
   "metadata": {},
   "source": [
    "### Step 3: Mask volume"
   ]
  },
  {
   "cell_type": "code",
   "execution_count": 19,
   "metadata": {},
   "outputs": [],
   "source": [
    "# step3.py\n",
    "\n",
    "from scipy import stats\n",
    "from sklearn import mixture\n",
    "from skimage import morphology\n",
    "from scipy.ndimage.filters import median_filter\n",
    "from voluseg._tools.ball import ball\n",
    "from voluseg._tools.constants import ali, hdf\n",
    "from voluseg._tools.load_volume import load_volume\n",
    "from voluseg._tools.clean_signal import clean_signal"
   ]
  },
  {
   "cell_type": "code",
   "execution_count": 20,
   "metadata": {},
   "outputs": [],
   "source": [
    "# set up matplotlib\n",
    "import matplotlib\n",
    "import matplotlib.pyplot as plt"
   ]
  },
  {
   "cell_type": "code",
   "execution_count": 21,
   "metadata": {},
   "outputs": [],
   "source": [
    "p = SimpleNamespace(**parameters)"
   ]
  },
  {
   "cell_type": "code",
   "execution_count": 22,
   "metadata": {},
   "outputs": [
    {
     "data": {
      "text/plain": [
       "'/scratch/limj2/data/raw/20211007/fish00/5dpf_elavl3-gc8f-gfap-jregeco_MG-vs_NGGU-trunc65_fish00_exp07_20211007_215308/im_CM0_voluseg/mean_timeseries'"
      ]
     },
     "execution_count": 22,
     "metadata": {},
     "output_type": "execute_result"
    }
   ],
   "source": [
    "# compute mean timeseries and ranked dff\n",
    "fullname_timemean = os.path.join(p.dir_output, 'mean_timeseries')\n",
    "fullname_timemean"
   ]
  },
  {
   "cell_type": "code",
   "execution_count": 29,
   "metadata": {},
   "outputs": [
    {
     "name": "stdout",
     "output_type": "stream",
     "text": [
      "Kernel currently running on e06u03.int.janelia.org\n",
      "Scheduler: tcp://127.0.0.1:45661\n",
      "Dashboard link: http://127.0.0.1:8787/status\n"
     ]
    },
    {
     "data": {
      "text/html": [
       "<table style=\"border: 2px solid white;\">\n",
       "<tr>\n",
       "<td style=\"vertical-align: top; border: 0px solid white\">\n",
       "<h3 style=\"text-align: left;\">Client</h3>\n",
       "<ul style=\"text-align: left; list-style: none; margin: 0; padding: 0;\">\n",
       "  <li><b>Scheduler: </b>tcp://127.0.0.1:45661</li>\n",
       "  <li><b>Dashboard: </b><a href='http://127.0.0.1:8787/status' target='_blank'>http://127.0.0.1:8787/status</a></li>\n",
       "</ul>\n",
       "</td>\n",
       "<td style=\"vertical-align: top; border: 0px solid white\">\n",
       "<h3 style=\"text-align: left;\">Cluster</h3>\n",
       "<ul style=\"text-align: left; list-style:none; margin: 0; padding: 0;\">\n",
       "  <li><b>Workers: </b>32</li>\n",
       "  <li><b>Cores: </b>256</li>\n",
       "  <li><b>Memory: </b>1.01 TB</li>\n",
       "</ul>\n",
       "</td>\n",
       "</tr>\n",
       "</table>"
      ],
      "text/plain": [
       "<Client: 'tcp://127.0.0.1:45661' processes=32 threads=256, memory=1.01 TB>"
      ]
     },
     "metadata": {},
     "output_type": "display_data"
    },
    {
     "name": "stdout",
     "output_type": "stream",
     "text": [
      "CPU times: user 12min 27s, sys: 2min 9s, total: 14min 37s\n",
      "Wall time: 18min 3s\n"
     ]
    }
   ],
   "source": [
    "%%time\n",
    "if not os.path.isfile(fullname_timemean+hdf):\n",
    "    \n",
    "    dff_rank = np.zeros(p.lt)\n",
    "    mean_timeseries_raw = np.zeros((p.n_colors, p.lt))\n",
    "    mean_timeseries = np.zeros((p.n_colors, p.lt))\n",
    "    mean_baseline = np.zeros((p.n_colors, p.lt))\n",
    "    mean_timeseries_raw.shape    \n",
    "    \n",
    "    for color_i in range(p.n_colors):\n",
    "        \n",
    "        dir_volume = os.path.join(p.dir_output, 'volumes', str(color_i))       \n",
    "        \n",
    "        mean_timeseries_raw_da = da.nanmean(data_cit_da, axis=(1,2,3))\n",
    "        display(mean_timeseries_raw_da)\n",
    "        \n",
    "        with start_cluster(\n",
    "            cores=8,\n",
    "            force_local=False, processes=32,\n",
    "#             worker_lifetime=\"350s\", worker_lifetime_stagger=\"2m\", \n",
    "            death_timeout=1200, store_logs=True, spillover=True, verbose=True) as cluster, Client(cluster) as client:\n",
    "\n",
    "            display(client)\n",
    "                  \n",
    "            mean_timeseries_raw[color_i] = mean_timeseries_raw_da.compute()\n",
    "                \n",
    "    time, base = clean_signal(parameters, mean_timeseries_raw[color_i])\n",
    "    mean_timeseries[color_i], mean_baseline[color_i] = time, base\n",
    "    dff_rank += stats.rankdata((time - base) / time)        \n",
    "    \n",
    "    # get high delta-f/f timepoints\n",
    "    if p.type_timepoints == 'custom':\n",
    "        timepoints = p.timepoints\n",
    "    else:\n",
    "        nt = p.timepoints\n",
    "        if not nt:\n",
    "            timepoints = np.arange(p.lt)\n",
    "        else:\n",
    "            if p.type_timepoints == 'dff':\n",
    "                timepoints = np.sort(np.argsort(dff_rank)[::-1][:nt])\n",
    "            elif p.type_timepoints == 'periodic':\n",
    "                timepoints = np.linspace(0, p.lt, nt, dtype='int', endpoint=False)\n",
    "\n",
    "    with h5py.File(fullname_timemean+hdf, 'w') as file_handle:\n",
    "        file_handle['mean_timeseries_raw'] = mean_timeseries_raw\n",
    "        file_handle['mean_timeseries'] = mean_timeseries\n",
    "        file_handle['mean_baseline'] = mean_baseline\n",
    "        file_handle['timepoints'] = timepoints    "
   ]
  },
  {
   "cell_type": "code",
   "execution_count": 32,
   "metadata": {
    "scrolled": true,
    "tags": []
   },
   "outputs": [
    {
     "name": "stderr",
     "output_type": "stream",
     "text": [
      "/groups/ahrens/home/limj2/anaconda3/envs/python37/lib/python3.6/site-packages/ipykernel_launcher.py:24: PerformanceWarning: Slicing is producing a large chunk. To accept the large\n",
      "chunk and silence this warning, set the option\n",
      "    >>> with dask.config.set(**{'array.slicing.split_large_chunks': False}):\n",
      "    ...     array[indexer]\n",
      "\n",
      "To avoid creating the large chunks, set the option\n",
      "    >>> with dask.config.set(**{'array.slicing.split_large_chunks': True}):\n",
      "    ...     array[indexer]\n"
     ]
    },
    {
     "data": {
      "text/html": [
       "<table>\n",
       "<tr>\n",
       "<td>\n",
       "<table>\n",
       "  <thead>\n",
       "    <tr><td> </td><th> Array </th><th> Chunk </th></tr>\n",
       "  </thead>\n",
       "  <tbody>\n",
       "    <tr><th> Bytes </th><td> 248.35 MB </td> <td> 8.19 kB </td></tr>\n",
       "    <tr><th> Shape </th><td> (1024, 572, 53) </td> <td> (32, 32, 1) </td></tr>\n",
       "    <tr><th> Count </th><td> 213696 Tasks </td><td> 30528 Chunks </td></tr>\n",
       "    <tr><th> Type </th><td> float64 </td><td> numpy.ndarray </td></tr>\n",
       "  </tbody>\n",
       "</table>\n",
       "</td>\n",
       "<td>\n",
       "<svg width=\"165\" height=\"187\" style=\"stroke:rgb(0,0,0);stroke-width:1\" >\n",
       "\n",
       "  <!-- Horizontal lines -->\n",
       "  <line x1=\"10\" y1=\"0\" x2=\"80\" y2=\"70\" style=\"stroke-width:2\" />\n",
       "  <line x1=\"10\" y1=\"3\" x2=\"80\" y2=\"74\" />\n",
       "  <line x1=\"10\" y1=\"7\" x2=\"80\" y2=\"78\" />\n",
       "  <line x1=\"10\" y1=\"11\" x2=\"80\" y2=\"81\" />\n",
       "  <line x1=\"10\" y1=\"15\" x2=\"80\" y2=\"85\" />\n",
       "  <line x1=\"10\" y1=\"18\" x2=\"80\" y2=\"89\" />\n",
       "  <line x1=\"10\" y1=\"22\" x2=\"80\" y2=\"93\" />\n",
       "  <line x1=\"10\" y1=\"26\" x2=\"80\" y2=\"96\" />\n",
       "  <line x1=\"10\" y1=\"30\" x2=\"80\" y2=\"100\" />\n",
       "  <line x1=\"10\" y1=\"33\" x2=\"80\" y2=\"104\" />\n",
       "  <line x1=\"10\" y1=\"37\" x2=\"80\" y2=\"108\" />\n",
       "  <line x1=\"10\" y1=\"41\" x2=\"80\" y2=\"111\" />\n",
       "  <line x1=\"10\" y1=\"45\" x2=\"80\" y2=\"115\" />\n",
       "  <line x1=\"10\" y1=\"48\" x2=\"80\" y2=\"119\" />\n",
       "  <line x1=\"10\" y1=\"52\" x2=\"80\" y2=\"123\" />\n",
       "  <line x1=\"10\" y1=\"56\" x2=\"80\" y2=\"126\" />\n",
       "  <line x1=\"10\" y1=\"60\" x2=\"80\" y2=\"130\" />\n",
       "  <line x1=\"10\" y1=\"63\" x2=\"80\" y2=\"134\" />\n",
       "  <line x1=\"10\" y1=\"67\" x2=\"80\" y2=\"137\" style=\"stroke-width:2\" />\n",
       "\n",
       "  <!-- Vertical lines -->\n",
       "  <line x1=\"10\" y1=\"0\" x2=\"10\" y2=\"67\" style=\"stroke-width:2\" />\n",
       "  <line x1=\"12\" y1=\"2\" x2=\"12\" y2=\"69\" />\n",
       "  <line x1=\"16\" y1=\"6\" x2=\"16\" y2=\"73\" />\n",
       "  <line x1=\"21\" y1=\"11\" x2=\"21\" y2=\"78\" />\n",
       "  <line x1=\"23\" y1=\"13\" x2=\"23\" y2=\"80\" />\n",
       "  <line x1=\"27\" y1=\"17\" x2=\"27\" y2=\"84\" />\n",
       "  <line x1=\"32\" y1=\"22\" x2=\"32\" y2=\"89\" />\n",
       "  <line x1=\"34\" y1=\"24\" x2=\"34\" y2=\"91\" />\n",
       "  <line x1=\"38\" y1=\"28\" x2=\"38\" y2=\"95\" />\n",
       "  <line x1=\"43\" y1=\"33\" x2=\"43\" y2=\"100\" />\n",
       "  <line x1=\"45\" y1=\"35\" x2=\"45\" y2=\"102\" />\n",
       "  <line x1=\"49\" y1=\"39\" x2=\"49\" y2=\"106\" />\n",
       "  <line x1=\"54\" y1=\"44\" x2=\"54\" y2=\"111\" />\n",
       "  <line x1=\"56\" y1=\"46\" x2=\"56\" y2=\"113\" />\n",
       "  <line x1=\"60\" y1=\"50\" x2=\"60\" y2=\"117\" />\n",
       "  <line x1=\"65\" y1=\"55\" x2=\"65\" y2=\"122\" />\n",
       "  <line x1=\"67\" y1=\"57\" x2=\"67\" y2=\"124\" />\n",
       "  <line x1=\"71\" y1=\"61\" x2=\"71\" y2=\"128\" />\n",
       "  <line x1=\"76\" y1=\"66\" x2=\"76\" y2=\"133\" />\n",
       "  <line x1=\"80\" y1=\"70\" x2=\"80\" y2=\"137\" style=\"stroke-width:2\" />\n",
       "\n",
       "  <!-- Colored Rectangle -->\n",
       "  <polygon points=\"10.0,0.0 80.58823529411765,70.58823529411765 80.58823529411765,137.61948529411765 10.0,67.03125\" style=\"fill:#8B4903A0;stroke-width:0\"/>\n",
       "\n",
       "  <!-- Horizontal lines -->\n",
       "  <line x1=\"10\" y1=\"0\" x2=\"44\" y2=\"0\" style=\"stroke-width:2\" />\n",
       "  <line x1=\"12\" y1=\"2\" x2=\"46\" y2=\"2\" />\n",
       "  <line x1=\"16\" y1=\"6\" x2=\"51\" y2=\"6\" />\n",
       "  <line x1=\"21\" y1=\"11\" x2=\"55\" y2=\"11\" />\n",
       "  <line x1=\"23\" y1=\"13\" x2=\"57\" y2=\"13\" />\n",
       "  <line x1=\"27\" y1=\"17\" x2=\"62\" y2=\"17\" />\n",
       "  <line x1=\"32\" y1=\"22\" x2=\"66\" y2=\"22\" />\n",
       "  <line x1=\"34\" y1=\"24\" x2=\"68\" y2=\"24\" />\n",
       "  <line x1=\"38\" y1=\"28\" x2=\"73\" y2=\"28\" />\n",
       "  <line x1=\"43\" y1=\"33\" x2=\"77\" y2=\"33\" />\n",
       "  <line x1=\"45\" y1=\"35\" x2=\"80\" y2=\"35\" />\n",
       "  <line x1=\"49\" y1=\"39\" x2=\"84\" y2=\"39\" />\n",
       "  <line x1=\"54\" y1=\"44\" x2=\"88\" y2=\"44\" />\n",
       "  <line x1=\"56\" y1=\"46\" x2=\"91\" y2=\"46\" />\n",
       "  <line x1=\"60\" y1=\"50\" x2=\"95\" y2=\"50\" />\n",
       "  <line x1=\"65\" y1=\"55\" x2=\"99\" y2=\"55\" />\n",
       "  <line x1=\"67\" y1=\"57\" x2=\"102\" y2=\"57\" />\n",
       "  <line x1=\"71\" y1=\"61\" x2=\"106\" y2=\"61\" />\n",
       "  <line x1=\"76\" y1=\"66\" x2=\"110\" y2=\"66\" />\n",
       "  <line x1=\"80\" y1=\"70\" x2=\"115\" y2=\"70\" style=\"stroke-width:2\" />\n",
       "\n",
       "  <!-- Vertical lines -->\n",
       "  <line x1=\"10\" y1=\"0\" x2=\"80\" y2=\"70\" style=\"stroke-width:2\" />\n",
       "  <line x1=\"11\" y1=\"0\" x2=\"81\" y2=\"70\" />\n",
       "  <line x1=\"13\" y1=\"0\" x2=\"83\" y2=\"70\" />\n",
       "  <line x1=\"15\" y1=\"0\" x2=\"85\" y2=\"70\" />\n",
       "  <line x1=\"17\" y1=\"0\" x2=\"87\" y2=\"70\" />\n",
       "  <line x1=\"18\" y1=\"0\" x2=\"89\" y2=\"70\" />\n",
       "  <line x1=\"20\" y1=\"0\" x2=\"91\" y2=\"70\" />\n",
       "  <line x1=\"22\" y1=\"0\" x2=\"93\" y2=\"70\" />\n",
       "  <line x1=\"24\" y1=\"0\" x2=\"94\" y2=\"70\" />\n",
       "  <line x1=\"26\" y1=\"0\" x2=\"96\" y2=\"70\" />\n",
       "  <line x1=\"27\" y1=\"0\" x2=\"98\" y2=\"70\" />\n",
       "  <line x1=\"29\" y1=\"0\" x2=\"100\" y2=\"70\" />\n",
       "  <line x1=\"31\" y1=\"0\" x2=\"102\" y2=\"70\" />\n",
       "  <line x1=\"33\" y1=\"0\" x2=\"104\" y2=\"70\" />\n",
       "  <line x1=\"35\" y1=\"0\" x2=\"106\" y2=\"70\" />\n",
       "  <line x1=\"36\" y1=\"0\" x2=\"107\" y2=\"70\" />\n",
       "  <line x1=\"38\" y1=\"0\" x2=\"109\" y2=\"70\" />\n",
       "  <line x1=\"40\" y1=\"0\" x2=\"111\" y2=\"70\" />\n",
       "  <line x1=\"42\" y1=\"0\" x2=\"113\" y2=\"70\" />\n",
       "  <line x1=\"44\" y1=\"0\" x2=\"115\" y2=\"70\" style=\"stroke-width:2\" />\n",
       "\n",
       "  <!-- Colored Rectangle -->\n",
       "  <polygon points=\"10.0,0.0 44.71246748070802,0.0 115.30070277482568,70.58823529411765 80.58823529411765,70.58823529411765\" style=\"fill:#8B4903A0;stroke-width:0\"/>\n",
       "\n",
       "  <!-- Horizontal lines -->\n",
       "  <line x1=\"80\" y1=\"70\" x2=\"115\" y2=\"70\" style=\"stroke-width:2\" />\n",
       "  <line x1=\"80\" y1=\"74\" x2=\"115\" y2=\"74\" />\n",
       "  <line x1=\"80\" y1=\"78\" x2=\"115\" y2=\"78\" />\n",
       "  <line x1=\"80\" y1=\"81\" x2=\"115\" y2=\"81\" />\n",
       "  <line x1=\"80\" y1=\"85\" x2=\"115\" y2=\"85\" />\n",
       "  <line x1=\"80\" y1=\"89\" x2=\"115\" y2=\"89\" />\n",
       "  <line x1=\"80\" y1=\"93\" x2=\"115\" y2=\"93\" />\n",
       "  <line x1=\"80\" y1=\"96\" x2=\"115\" y2=\"96\" />\n",
       "  <line x1=\"80\" y1=\"100\" x2=\"115\" y2=\"100\" />\n",
       "  <line x1=\"80\" y1=\"104\" x2=\"115\" y2=\"104\" />\n",
       "  <line x1=\"80\" y1=\"108\" x2=\"115\" y2=\"108\" />\n",
       "  <line x1=\"80\" y1=\"111\" x2=\"115\" y2=\"111\" />\n",
       "  <line x1=\"80\" y1=\"115\" x2=\"115\" y2=\"115\" />\n",
       "  <line x1=\"80\" y1=\"119\" x2=\"115\" y2=\"119\" />\n",
       "  <line x1=\"80\" y1=\"123\" x2=\"115\" y2=\"123\" />\n",
       "  <line x1=\"80\" y1=\"126\" x2=\"115\" y2=\"126\" />\n",
       "  <line x1=\"80\" y1=\"130\" x2=\"115\" y2=\"130\" />\n",
       "  <line x1=\"80\" y1=\"134\" x2=\"115\" y2=\"134\" />\n",
       "  <line x1=\"80\" y1=\"137\" x2=\"115\" y2=\"137\" style=\"stroke-width:2\" />\n",
       "\n",
       "  <!-- Vertical lines -->\n",
       "  <line x1=\"80\" y1=\"70\" x2=\"80\" y2=\"137\" style=\"stroke-width:2\" />\n",
       "  <line x1=\"81\" y1=\"70\" x2=\"81\" y2=\"137\" />\n",
       "  <line x1=\"83\" y1=\"70\" x2=\"83\" y2=\"137\" />\n",
       "  <line x1=\"85\" y1=\"70\" x2=\"85\" y2=\"137\" />\n",
       "  <line x1=\"87\" y1=\"70\" x2=\"87\" y2=\"137\" />\n",
       "  <line x1=\"89\" y1=\"70\" x2=\"89\" y2=\"137\" />\n",
       "  <line x1=\"91\" y1=\"70\" x2=\"91\" y2=\"137\" />\n",
       "  <line x1=\"93\" y1=\"70\" x2=\"93\" y2=\"137\" />\n",
       "  <line x1=\"94\" y1=\"70\" x2=\"94\" y2=\"137\" />\n",
       "  <line x1=\"96\" y1=\"70\" x2=\"96\" y2=\"137\" />\n",
       "  <line x1=\"98\" y1=\"70\" x2=\"98\" y2=\"137\" />\n",
       "  <line x1=\"100\" y1=\"70\" x2=\"100\" y2=\"137\" />\n",
       "  <line x1=\"102\" y1=\"70\" x2=\"102\" y2=\"137\" />\n",
       "  <line x1=\"104\" y1=\"70\" x2=\"104\" y2=\"137\" />\n",
       "  <line x1=\"106\" y1=\"70\" x2=\"106\" y2=\"137\" />\n",
       "  <line x1=\"107\" y1=\"70\" x2=\"107\" y2=\"137\" />\n",
       "  <line x1=\"109\" y1=\"70\" x2=\"109\" y2=\"137\" />\n",
       "  <line x1=\"111\" y1=\"70\" x2=\"111\" y2=\"137\" />\n",
       "  <line x1=\"113\" y1=\"70\" x2=\"113\" y2=\"137\" />\n",
       "  <line x1=\"115\" y1=\"70\" x2=\"115\" y2=\"137\" style=\"stroke-width:2\" />\n",
       "\n",
       "  <!-- Colored Rectangle -->\n",
       "  <polygon points=\"80.58823529411765,70.58823529411765 115.30070277482568,70.58823529411765 115.30070277482568,137.61948529411765 80.58823529411765,137.61948529411765\" style=\"fill:#8B4903A0;stroke-width:0\"/>\n",
       "\n",
       "  <!-- Text -->\n",
       "  <text x=\"97.944469\" y=\"157.619485\" font-size=\"1.0rem\" font-weight=\"100\" text-anchor=\"middle\" >53</text>\n",
       "  <text x=\"135.300703\" y=\"104.103860\" font-size=\"1.0rem\" font-weight=\"100\" text-anchor=\"middle\" transform=\"rotate(-90,135.300703,104.103860)\">572</text>\n",
       "  <text x=\"35.294118\" y=\"122.325368\" font-size=\"1.0rem\" font-weight=\"100\" text-anchor=\"middle\" transform=\"rotate(45,35.294118,122.325368)\">1024</text>\n",
       "</svg>\n",
       "</td>\n",
       "</tr>\n",
       "</table>"
      ],
      "text/plain": [
       "dask.array<pow, shape=(1024, 572, 53), dtype=float64, chunksize=(32, 32, 1), chunktype=numpy.ndarray>"
      ]
     },
     "metadata": {},
     "output_type": "display_data"
    },
    {
     "name": "stdout",
     "output_type": "stream",
     "text": [
      "Kernel currently running on e06u03.int.janelia.org\n",
      "Scheduler: tcp://127.0.0.1:37493\n",
      "Dashboard link: http://127.0.0.1:8787/status\n"
     ]
    },
    {
     "data": {
      "text/html": [
       "<table style=\"border: 2px solid white;\">\n",
       "<tr>\n",
       "<td style=\"vertical-align: top; border: 0px solid white\">\n",
       "<h3 style=\"text-align: left;\">Client</h3>\n",
       "<ul style=\"text-align: left; list-style: none; margin: 0; padding: 0;\">\n",
       "  <li><b>Scheduler: </b>tcp://127.0.0.1:37493</li>\n",
       "  <li><b>Dashboard: </b><a href='http://127.0.0.1:8787/status' target='_blank'>http://127.0.0.1:8787/status</a></li>\n",
       "</ul>\n",
       "</td>\n",
       "<td style=\"vertical-align: top; border: 0px solid white\">\n",
       "<h3 style=\"text-align: left;\">Cluster</h3>\n",
       "<ul style=\"text-align: left; list-style:none; margin: 0; padding: 0;\">\n",
       "  <li><b>Workers: </b>32</li>\n",
       "  <li><b>Cores: </b>256</li>\n",
       "  <li><b>Memory: </b>1.01 TB</li>\n",
       "</ul>\n",
       "</td>\n",
       "</tr>\n",
       "</table>"
      ],
      "text/plain": [
       "<Client: 'tcp://127.0.0.1:37493' processes=32 threads=256, memory=1.01 TB>"
      ]
     },
     "metadata": {},
     "output_type": "display_data"
    },
    {
     "name": "stderr",
     "output_type": "stream",
     "text": [
      "Task was destroyed but it is pending!\n",
      "task: <Task pending coro=<RequestHandler._execute() running at /groups/ahrens/home/limj2/anaconda3/envs/python37/lib/python3.6/site-packages/tornado/web.py:1704> wait_for=<Future pending cb=[<TaskWakeupMethWrapper object at 0x7f12aaccb318>()]> cb=[_HandlerDelegate.execute.<locals>.<lambda>() at /groups/ahrens/home/limj2/anaconda3/envs/python37/lib/python3.6/site-packages/tornado/web.py:2326]>\n"
     ]
    },
    {
     "data": {
      "application/vnd.jupyter.widget-view+json": {
       "model_id": "e664c82fda1b40b7adde58135fc0af8d",
       "version_major": 2,
       "version_minor": 0
      },
      "text/plain": [
       "Canvas(toolbar=Toolbar(toolitems=[('Home', 'Reset original view', 'home', 'home'), ('Back', 'Back to previous …"
      ]
     },
     "metadata": {},
     "output_type": "display_data"
    },
    {
     "name": "stderr",
     "output_type": "stream",
     "text": [
      "/groups/ahrens/home/limj2/analysis_toolbox/src/analysis_toolbox/stacks_helper.py:724: UserWarning: This figure includes Axes that are not compatible with tight_layout, so results might be incorrect.\n",
      "  if colorbar: fig.tight_layout(rect=[0, 0.03, 0.85, 0.95])\n"
     ]
    },
    {
     "name": "stdout",
     "output_type": "stream",
     "text": [
      "using probability threshold of 0.500000.\n",
      "using intensity threshold of 106.145482.\n"
     ]
    },
    {
     "data": {
      "application/vnd.jupyter.widget-view+json": {
       "model_id": "f9ebf77ff9ae4e4cb16918386589908b",
       "version_major": 2,
       "version_minor": 0
      },
      "text/plain": [
       "Canvas(toolbar=Toolbar(toolitems=[('Home', 'Reset original view', 'home', 'home'), ('Back', 'Back to previous …"
      ]
     },
     "metadata": {},
     "output_type": "display_data"
    },
    {
     "data": {
      "application/vnd.jupyter.widget-view+json": {
       "model_id": "17bc91f36bf84be089a51672566be249",
       "version_major": 2,
       "version_minor": 0
      },
      "text/plain": [
       "Canvas(toolbar=Toolbar(toolitems=[('Home', 'Reset original view', 'home', 'home'), ('Back', 'Back to previous …"
      ]
     },
     "metadata": {},
     "output_type": "display_data"
    },
    {
     "data": {
      "application/vnd.jupyter.widget-view+json": {
       "model_id": "78a51e6f18594d299340dcb3a5d2d54e",
       "version_major": 2,
       "version_minor": 0
      },
      "text/plain": [
       "Canvas(toolbar=Toolbar(toolitems=[('Home', 'Reset original view', 'home', 'home'), ('Back', 'Back to previous …"
      ]
     },
     "metadata": {},
     "output_type": "display_data"
    },
    {
     "data": {
      "application/vnd.jupyter.widget-view+json": {
       "model_id": "501530a2af944a6885bbdef3cd06a0e7",
       "version_major": 2,
       "version_minor": 0
      },
      "text/plain": [
       "Canvas(toolbar=Toolbar(toolitems=[('Home', 'Reset original view', 'home', 'home'), ('Back', 'Back to previous …"
      ]
     },
     "metadata": {},
     "output_type": "display_data"
    },
    {
     "data": {
      "application/vnd.jupyter.widget-view+json": {
       "model_id": "4887e8e09c3b45f0b072a4d300abedde",
       "version_major": 2,
       "version_minor": 0
      },
      "text/plain": [
       "Canvas(toolbar=Toolbar(toolitems=[('Home', 'Reset original view', 'home', 'home'), ('Back', 'Back to previous …"
      ]
     },
     "metadata": {},
     "output_type": "display_data"
    },
    {
     "data": {
      "application/vnd.jupyter.widget-view+json": {
       "model_id": "fc2ed98ace6e4caf979cedf602e611ca",
       "version_major": 2,
       "version_minor": 0
      },
      "text/plain": [
       "Canvas(toolbar=Toolbar(toolitems=[('Home', 'Reset original view', 'home', 'home'), ('Back', 'Back to previous …"
      ]
     },
     "metadata": {},
     "output_type": "display_data"
    },
    {
     "data": {
      "application/vnd.jupyter.widget-view+json": {
       "model_id": "7f7c7a37b62a42ca97e6222b99d6cdab",
       "version_major": 2,
       "version_minor": 0
      },
      "text/plain": [
       "Canvas(toolbar=Toolbar(toolitems=[('Home', 'Reset original view', 'home', 'home'), ('Back', 'Back to previous …"
      ]
     },
     "metadata": {},
     "output_type": "display_data"
    },
    {
     "data": {
      "application/vnd.jupyter.widget-view+json": {
       "model_id": "3aa1e48502f64e05bfc66c9d399db289",
       "version_major": 2,
       "version_minor": 0
      },
      "text/plain": [
       "Canvas(toolbar=Toolbar(toolitems=[('Home', 'Reset original view', 'home', 'home'), ('Back', 'Back to previous …"
      ]
     },
     "metadata": {},
     "output_type": "display_data"
    },
    {
     "data": {
      "application/vnd.jupyter.widget-view+json": {
       "model_id": "652bfeba06c445b090d5516aaed7bacb",
       "version_major": 2,
       "version_minor": 0
      },
      "text/plain": [
       "Canvas(toolbar=Toolbar(toolitems=[('Home', 'Reset original view', 'home', 'home'), ('Back', 'Back to previous …"
      ]
     },
     "metadata": {},
     "output_type": "display_data"
    },
    {
     "data": {
      "application/vnd.jupyter.widget-view+json": {
       "model_id": "e3be50ec42774044a3052693d9eb07c4",
       "version_major": 2,
       "version_minor": 0
      },
      "text/plain": [
       "Canvas(toolbar=Toolbar(toolitems=[('Home', 'Reset original view', 'home', 'home'), ('Back', 'Back to previous …"
      ]
     },
     "metadata": {},
     "output_type": "display_data"
    },
    {
     "data": {
      "application/vnd.jupyter.widget-view+json": {
       "model_id": "71f399771341406c98b7f69d7b7ce996",
       "version_major": 2,
       "version_minor": 0
      },
      "text/plain": [
       "Canvas(toolbar=Toolbar(toolitems=[('Home', 'Reset original view', 'home', 'home'), ('Back', 'Back to previous …"
      ]
     },
     "metadata": {},
     "output_type": "display_data"
    },
    {
     "data": {
      "application/vnd.jupyter.widget-view+json": {
       "model_id": "08ab1938de1a44b0819dfb5a6c123cd6",
       "version_major": 2,
       "version_minor": 0
      },
      "text/plain": [
       "Canvas(toolbar=Toolbar(toolitems=[('Home', 'Reset original view', 'home', 'home'), ('Back', 'Back to previous …"
      ]
     },
     "metadata": {},
     "output_type": "display_data"
    },
    {
     "data": {
      "application/vnd.jupyter.widget-view+json": {
       "model_id": "80d1c70abe7341abb5dc9a5e47390710",
       "version_major": 2,
       "version_minor": 0
      },
      "text/plain": [
       "Canvas(toolbar=Toolbar(toolitems=[('Home', 'Reset original view', 'home', 'home'), ('Back', 'Back to previous …"
      ]
     },
     "metadata": {},
     "output_type": "display_data"
    },
    {
     "data": {
      "application/vnd.jupyter.widget-view+json": {
       "model_id": "685377b6da8d40c3a0ed8422a0181d48",
       "version_major": 2,
       "version_minor": 0
      },
      "text/plain": [
       "Canvas(toolbar=Toolbar(toolitems=[('Home', 'Reset original view', 'home', 'home'), ('Back', 'Back to previous …"
      ]
     },
     "metadata": {},
     "output_type": "display_data"
    },
    {
     "data": {
      "application/vnd.jupyter.widget-view+json": {
       "model_id": "8ac715d111d246e5a05a92e6652f4d42",
       "version_major": 2,
       "version_minor": 0
      },
      "text/plain": [
       "Canvas(toolbar=Toolbar(toolitems=[('Home', 'Reset original view', 'home', 'home'), ('Back', 'Back to previous …"
      ]
     },
     "metadata": {},
     "output_type": "display_data"
    },
    {
     "data": {
      "application/vnd.jupyter.widget-view+json": {
       "model_id": "0dff69f9f81d42b59b7ffb8accf27cfa",
       "version_major": 2,
       "version_minor": 0
      },
      "text/plain": [
       "Canvas(toolbar=Toolbar(toolitems=[('Home', 'Reset original view', 'home', 'home'), ('Back', 'Back to previous …"
      ]
     },
     "metadata": {},
     "output_type": "display_data"
    },
    {
     "data": {
      "application/vnd.jupyter.widget-view+json": {
       "model_id": "90c5113c7dc64a1bac47f0f2a0337251",
       "version_major": 2,
       "version_minor": 0
      },
      "text/plain": [
       "Canvas(toolbar=Toolbar(toolitems=[('Home', 'Reset original view', 'home', 'home'), ('Back', 'Back to previous …"
      ]
     },
     "metadata": {},
     "output_type": "display_data"
    },
    {
     "data": {
      "application/vnd.jupyter.widget-view+json": {
       "model_id": "54da2fd258904a5c9d0d1d4252d7efd9",
       "version_major": 2,
       "version_minor": 0
      },
      "text/plain": [
       "Canvas(toolbar=Toolbar(toolitems=[('Home', 'Reset original view', 'home', 'home'), ('Back', 'Back to previous …"
      ]
     },
     "metadata": {},
     "output_type": "display_data"
    },
    {
     "data": {
      "application/vnd.jupyter.widget-view+json": {
       "model_id": "da68e4784d0c44608c559c46e45c053c",
       "version_major": 2,
       "version_minor": 0
      },
      "text/plain": [
       "Canvas(toolbar=Toolbar(toolitems=[('Home', 'Reset original view', 'home', 'home'), ('Back', 'Back to previous …"
      ]
     },
     "metadata": {},
     "output_type": "display_data"
    },
    {
     "data": {
      "application/vnd.jupyter.widget-view+json": {
       "model_id": "5abbc7755d29463b9ed5a8065a4d26ee",
       "version_major": 2,
       "version_minor": 0
      },
      "text/plain": [
       "Canvas(toolbar=Toolbar(toolitems=[('Home', 'Reset original view', 'home', 'home'), ('Back', 'Back to previous …"
      ]
     },
     "metadata": {},
     "output_type": "display_data"
    },
    {
     "data": {
      "application/vnd.jupyter.widget-view+json": {
       "model_id": "340562d370a04cb7909657f29d8062d2",
       "version_major": 2,
       "version_minor": 0
      },
      "text/plain": [
       "Canvas(toolbar=Toolbar(toolitems=[('Home', 'Reset original view', 'home', 'home'), ('Back', 'Back to previous …"
      ]
     },
     "metadata": {},
     "output_type": "display_data"
    },
    {
     "data": {
      "application/vnd.jupyter.widget-view+json": {
       "model_id": "2bf0c7b2f8c94aa79997004fd140af8a",
       "version_major": 2,
       "version_minor": 0
      },
      "text/plain": [
       "Canvas(toolbar=Toolbar(toolitems=[('Home', 'Reset original view', 'home', 'home'), ('Back', 'Back to previous …"
      ]
     },
     "metadata": {},
     "output_type": "display_data"
    },
    {
     "data": {
      "application/vnd.jupyter.widget-view+json": {
       "model_id": "5d5faf6ab1ec41d4aa021f70466fd697",
       "version_major": 2,
       "version_minor": 0
      },
      "text/plain": [
       "Canvas(toolbar=Toolbar(toolitems=[('Home', 'Reset original view', 'home', 'home'), ('Back', 'Back to previous …"
      ]
     },
     "metadata": {},
     "output_type": "display_data"
    },
    {
     "data": {
      "application/vnd.jupyter.widget-view+json": {
       "model_id": "eb62b0c69d944db3b621e30956fe2602",
       "version_major": 2,
       "version_minor": 0
      },
      "text/plain": [
       "Canvas(toolbar=Toolbar(toolitems=[('Home', 'Reset original view', 'home', 'home'), ('Back', 'Back to previous …"
      ]
     },
     "metadata": {},
     "output_type": "display_data"
    },
    {
     "data": {
      "application/vnd.jupyter.widget-view+json": {
       "model_id": "d15a0183464d45ccb2dd821a11a52052",
       "version_major": 2,
       "version_minor": 0
      },
      "text/plain": [
       "Canvas(toolbar=Toolbar(toolitems=[('Home', 'Reset original view', 'home', 'home'), ('Back', 'Back to previous …"
      ]
     },
     "metadata": {},
     "output_type": "display_data"
    },
    {
     "data": {
      "application/vnd.jupyter.widget-view+json": {
       "model_id": "a9bf5f6f50574d45b912e28a99da5200",
       "version_major": 2,
       "version_minor": 0
      },
      "text/plain": [
       "Canvas(toolbar=Toolbar(toolitems=[('Home', 'Reset original view', 'home', 'home'), ('Back', 'Back to previous …"
      ]
     },
     "metadata": {},
     "output_type": "display_data"
    },
    {
     "data": {
      "application/vnd.jupyter.widget-view+json": {
       "model_id": "29af006a480a49ff8a36182a77e8c054",
       "version_major": 2,
       "version_minor": 0
      },
      "text/plain": [
       "Canvas(toolbar=Toolbar(toolitems=[('Home', 'Reset original view', 'home', 'home'), ('Back', 'Back to previous …"
      ]
     },
     "metadata": {},
     "output_type": "display_data"
    },
    {
     "data": {
      "application/vnd.jupyter.widget-view+json": {
       "model_id": "896229156b674a32b4b51e3f60c26329",
       "version_major": 2,
       "version_minor": 0
      },
      "text/plain": [
       "Canvas(toolbar=Toolbar(toolitems=[('Home', 'Reset original view', 'home', 'home'), ('Back', 'Back to previous …"
      ]
     },
     "metadata": {},
     "output_type": "display_data"
    },
    {
     "data": {
      "application/vnd.jupyter.widget-view+json": {
       "model_id": "cd994b2d023640fa8565e3834f628671",
       "version_major": 2,
       "version_minor": 0
      },
      "text/plain": [
       "Canvas(toolbar=Toolbar(toolitems=[('Home', 'Reset original view', 'home', 'home'), ('Back', 'Back to previous …"
      ]
     },
     "metadata": {},
     "output_type": "display_data"
    },
    {
     "data": {
      "application/vnd.jupyter.widget-view+json": {
       "model_id": "6058a123d5384f2f88872d49a4b2e33f",
       "version_major": 2,
       "version_minor": 0
      },
      "text/plain": [
       "Canvas(toolbar=Toolbar(toolitems=[('Home', 'Reset original view', 'home', 'home'), ('Back', 'Back to previous …"
      ]
     },
     "metadata": {},
     "output_type": "display_data"
    },
    {
     "data": {
      "application/vnd.jupyter.widget-view+json": {
       "model_id": "43a1824ca2c54df48dd860230310bc13",
       "version_major": 2,
       "version_minor": 0
      },
      "text/plain": [
       "Canvas(toolbar=Toolbar(toolitems=[('Home', 'Reset original view', 'home', 'home'), ('Back', 'Back to previous …"
      ]
     },
     "metadata": {},
     "output_type": "display_data"
    },
    {
     "data": {
      "application/vnd.jupyter.widget-view+json": {
       "model_id": "717ecdf9528943f4a5f590538f101a93",
       "version_major": 2,
       "version_minor": 0
      },
      "text/plain": [
       "Canvas(toolbar=Toolbar(toolitems=[('Home', 'Reset original view', 'home', 'home'), ('Back', 'Back to previous …"
      ]
     },
     "metadata": {},
     "output_type": "display_data"
    },
    {
     "data": {
      "application/vnd.jupyter.widget-view+json": {
       "model_id": "511257447a884bf5b0fd1bb8127c1526",
       "version_major": 2,
       "version_minor": 0
      },
      "text/plain": [
       "Canvas(toolbar=Toolbar(toolitems=[('Home', 'Reset original view', 'home', 'home'), ('Back', 'Back to previous …"
      ]
     },
     "metadata": {},
     "output_type": "display_data"
    },
    {
     "data": {
      "application/vnd.jupyter.widget-view+json": {
       "model_id": "5230849fa4f5422da8f204994254cbf7",
       "version_major": 2,
       "version_minor": 0
      },
      "text/plain": [
       "Canvas(toolbar=Toolbar(toolitems=[('Home', 'Reset original view', 'home', 'home'), ('Back', 'Back to previous …"
      ]
     },
     "metadata": {},
     "output_type": "display_data"
    },
    {
     "data": {
      "application/vnd.jupyter.widget-view+json": {
       "model_id": "a400ccfb95a44900a9cee7c7b900d64a",
       "version_major": 2,
       "version_minor": 0
      },
      "text/plain": [
       "Canvas(toolbar=Toolbar(toolitems=[('Home', 'Reset original view', 'home', 'home'), ('Back', 'Back to previous …"
      ]
     },
     "metadata": {},
     "output_type": "display_data"
    },
    {
     "data": {
      "application/vnd.jupyter.widget-view+json": {
       "model_id": "f22ec4f799934385bbc83792064f403e",
       "version_major": 2,
       "version_minor": 0
      },
      "text/plain": [
       "Canvas(toolbar=Toolbar(toolitems=[('Home', 'Reset original view', 'home', 'home'), ('Back', 'Back to previous …"
      ]
     },
     "metadata": {},
     "output_type": "display_data"
    },
    {
     "data": {
      "application/vnd.jupyter.widget-view+json": {
       "model_id": "78568df8fcd747e2a28f37c6a7a202ff",
       "version_major": 2,
       "version_minor": 0
      },
      "text/plain": [
       "Canvas(toolbar=Toolbar(toolitems=[('Home', 'Reset original view', 'home', 'home'), ('Back', 'Back to previous …"
      ]
     },
     "metadata": {},
     "output_type": "display_data"
    },
    {
     "data": {
      "application/vnd.jupyter.widget-view+json": {
       "model_id": "dc29432cd8994672b3fd454c3c692f1f",
       "version_major": 2,
       "version_minor": 0
      },
      "text/plain": [
       "Canvas(toolbar=Toolbar(toolitems=[('Home', 'Reset original view', 'home', 'home'), ('Back', 'Back to previous …"
      ]
     },
     "metadata": {},
     "output_type": "display_data"
    },
    {
     "data": {
      "application/vnd.jupyter.widget-view+json": {
       "model_id": "50fc493e20ef439dbcd3d93755c3bfa1",
       "version_major": 2,
       "version_minor": 0
      },
      "text/plain": [
       "Canvas(toolbar=Toolbar(toolitems=[('Home', 'Reset original view', 'home', 'home'), ('Back', 'Back to previous …"
      ]
     },
     "metadata": {},
     "output_type": "display_data"
    },
    {
     "data": {
      "application/vnd.jupyter.widget-view+json": {
       "model_id": "f6ec5c2f771f427ab52588d925bfb782",
       "version_major": 2,
       "version_minor": 0
      },
      "text/plain": [
       "Canvas(toolbar=Toolbar(toolitems=[('Home', 'Reset original view', 'home', 'home'), ('Back', 'Back to previous …"
      ]
     },
     "metadata": {},
     "output_type": "display_data"
    },
    {
     "data": {
      "application/vnd.jupyter.widget-view+json": {
       "model_id": "d8a8562995624dd6a878c27ccd147f61",
       "version_major": 2,
       "version_minor": 0
      },
      "text/plain": [
       "Canvas(toolbar=Toolbar(toolitems=[('Home', 'Reset original view', 'home', 'home'), ('Back', 'Back to previous …"
      ]
     },
     "metadata": {},
     "output_type": "display_data"
    },
    {
     "data": {
      "application/vnd.jupyter.widget-view+json": {
       "model_id": "eae1946a497c41029701d7d8bd45fde8",
       "version_major": 2,
       "version_minor": 0
      },
      "text/plain": [
       "Canvas(toolbar=Toolbar(toolitems=[('Home', 'Reset original view', 'home', 'home'), ('Back', 'Back to previous …"
      ]
     },
     "metadata": {},
     "output_type": "display_data"
    },
    {
     "data": {
      "application/vnd.jupyter.widget-view+json": {
       "model_id": "51f7d5bbaa5e4db4b8b104235f16934e",
       "version_major": 2,
       "version_minor": 0
      },
      "text/plain": [
       "Canvas(toolbar=Toolbar(toolitems=[('Home', 'Reset original view', 'home', 'home'), ('Back', 'Back to previous …"
      ]
     },
     "metadata": {},
     "output_type": "display_data"
    },
    {
     "data": {
      "application/vnd.jupyter.widget-view+json": {
       "model_id": "81b9bea4b33047d69088cf7d9e989aa3",
       "version_major": 2,
       "version_minor": 0
      },
      "text/plain": [
       "Canvas(toolbar=Toolbar(toolitems=[('Home', 'Reset original view', 'home', 'home'), ('Back', 'Back to previous …"
      ]
     },
     "metadata": {},
     "output_type": "display_data"
    },
    {
     "data": {
      "application/vnd.jupyter.widget-view+json": {
       "model_id": "5c526fef637a4fa887c7559a3f657b5e",
       "version_major": 2,
       "version_minor": 0
      },
      "text/plain": [
       "Canvas(toolbar=Toolbar(toolitems=[('Home', 'Reset original view', 'home', 'home'), ('Back', 'Back to previous …"
      ]
     },
     "metadata": {},
     "output_type": "display_data"
    },
    {
     "data": {
      "application/vnd.jupyter.widget-view+json": {
       "model_id": "c3098f9c8f7741b7934a945817859d25",
       "version_major": 2,
       "version_minor": 0
      },
      "text/plain": [
       "Canvas(toolbar=Toolbar(toolitems=[('Home', 'Reset original view', 'home', 'home'), ('Back', 'Back to previous …"
      ]
     },
     "metadata": {},
     "output_type": "display_data"
    },
    {
     "data": {
      "application/vnd.jupyter.widget-view+json": {
       "model_id": "45cd1fb4ee144e12a80de894b762cce2",
       "version_major": 2,
       "version_minor": 0
      },
      "text/plain": [
       "Canvas(toolbar=Toolbar(toolitems=[('Home', 'Reset original view', 'home', 'home'), ('Back', 'Back to previous …"
      ]
     },
     "metadata": {},
     "output_type": "display_data"
    },
    {
     "data": {
      "application/vnd.jupyter.widget-view+json": {
       "model_id": "885cae0b71ce4861ba1b72f7b4eb9c77",
       "version_major": 2,
       "version_minor": 0
      },
      "text/plain": [
       "Canvas(toolbar=Toolbar(toolitems=[('Home', 'Reset original view', 'home', 'home'), ('Back', 'Back to previous …"
      ]
     },
     "metadata": {},
     "output_type": "display_data"
    },
    {
     "data": {
      "application/vnd.jupyter.widget-view+json": {
       "model_id": "afec010c14cd4541af32f7e17f3333f7",
       "version_major": 2,
       "version_minor": 0
      },
      "text/plain": [
       "Canvas(toolbar=Toolbar(toolitems=[('Home', 'Reset original view', 'home', 'home'), ('Back', 'Back to previous …"
      ]
     },
     "metadata": {},
     "output_type": "display_data"
    },
    {
     "data": {
      "application/vnd.jupyter.widget-view+json": {
       "model_id": "efb7eaa2f0c44e78820825e1fdf2e985",
       "version_major": 2,
       "version_minor": 0
      },
      "text/plain": [
       "Canvas(toolbar=Toolbar(toolitems=[('Home', 'Reset original view', 'home', 'home'), ('Back', 'Back to previous …"
      ]
     },
     "metadata": {},
     "output_type": "display_data"
    },
    {
     "data": {
      "application/vnd.jupyter.widget-view+json": {
       "model_id": "f82894fa3eb5460b8aa7b94a41d284a7",
       "version_major": 2,
       "version_minor": 0
      },
      "text/plain": [
       "Canvas(toolbar=Toolbar(toolitems=[('Home', 'Reset original view', 'home', 'home'), ('Back', 'Back to previous …"
      ]
     },
     "metadata": {},
     "output_type": "display_data"
    },
    {
     "data": {
      "application/vnd.jupyter.widget-view+json": {
       "model_id": "179e44213f56464ab1fbacbfedfd3535",
       "version_major": 2,
       "version_minor": 0
      },
      "text/plain": [
       "Canvas(toolbar=Toolbar(toolitems=[('Home', 'Reset original view', 'home', 'home'), ('Back', 'Back to previous …"
      ]
     },
     "metadata": {},
     "output_type": "display_data"
    },
    {
     "data": {
      "application/vnd.jupyter.widget-view+json": {
       "model_id": "85efa0447e274cedb0a346a27a17e8c3",
       "version_major": 2,
       "version_minor": 0
      },
      "text/plain": [
       "Canvas(toolbar=Toolbar(toolitems=[('Home', 'Reset original view', 'home', 'home'), ('Back', 'Back to previous …"
      ]
     },
     "metadata": {},
     "output_type": "display_data"
    }
   ],
   "source": [
    "# load timepoints\n",
    "with h5py.File(fullname_timemean+hdf, 'r') as file_handle:\n",
    "    timepoints = file_handle['timepoints'][()]\n",
    "\n",
    "for color_i in range(p.n_colors):\n",
    "    \n",
    "    fullname_volmean = os.path.join(p.dir_output, 'volume%d'%(color_i))\n",
    "    if os.path.isfile(fullname_volmean+hdf):\n",
    "        continue\n",
    "\n",
    "    dir_volume = os.path.join(p.dir_output, 'volumes', str(color_i))\n",
    "    dir_plot = os.path.join(p.dir_output, 'mask_plots', str(color_i))\n",
    "    os.makedirs(dir_plot, exist_ok=True)\n",
    "\n",
    "    fullname_volume = os.path.join(dir_volume, p.volume_names[0])\n",
    "    lx, ly, lz = load_volume(fullname_volume+ali+hdf).T.shape    \n",
    "\n",
    "    \n",
    "    if p.type_mask == 'max':\n",
    "        volume_mean_da = da.nanmax(data_cis_da[timepoints], axis=0).T\n",
    "    elif p.type_mask == 'mean':\n",
    "        volume_mean_da = da.nanmean(data_cis_da[timepoints], axis=0).T\n",
    "    elif p.type_mask == 'geomean':\n",
    "        volume_mean_da = 10 ** da.nanmean(da.log10(data_cis_da[timepoints]), axis=0).T\n",
    "\n",
    "    display(volume_mean_da)\n",
    "    \n",
    "    with start_cluster(\n",
    "        cores=8,\n",
    "        force_local=False, processes=32,\n",
    "    #     worker_lifetime=\"350s\", worker_lifetime_stagger=\"2m\", \n",
    "        death_timeout=1200, store_logs=True, spillover=True, verbose=True) as cluster, Client(cluster) as client:\n",
    "\n",
    "        display(client)\n",
    "\n",
    "        volume_mean = volume_mean_da.compute()    \n",
    "        \n",
    "    from analysis_toolbox.stacks_helper import plot_planes\n",
    "    plot_planes(volume_mean.T, percentile_min=20, percentile_max=99)  \n",
    "    \n",
    "    # get peaks by comparing to a median-smoothed volume\n",
    "    ball_radi = ball(0.5 * p.diam_cell, p.affine_mat)[0]\n",
    "    volume_peak = volume_mean >= median_filter(volume_mean, footprint=ball_radi)\n",
    "\n",
    "    # compute power and probability\n",
    "    voxel_intensity = np.percentile(volume_mean[volume_mean>0], np.r_[5:95:0.001])[:, None]\n",
    "    gmm = mixture.GaussianMixture(n_components=2, max_iter=100, n_init=100).fit(voxel_intensity)\n",
    "    voxel_probability = gmm.predict_proba(voxel_intensity)\n",
    "    voxel_probability = voxel_probability[:, np.argmax(voxel_intensity[np.argmax(voxel_probability, 0)])]    \n",
    "    \n",
    "    \n",
    "    # compute intensity threshold\n",
    "    if (p.thr_mask > 0) and (p.thr_mask <= 1):\n",
    "        thr_probability = p.thr_mask\n",
    "        ix = np.argmin(np.abs(voxel_probability - thr_probability))\n",
    "        thr_intensity = voxel_intensity[ix][0]\n",
    "    elif p.thr_mask > 1:\n",
    "        thr_intensity = p.thr_mask\n",
    "        ix = np.argmin(np.abs(voxel_intensity - thr_intensity))\n",
    "        thr_probability = voxel_probability[ix]\n",
    "    else:\n",
    "        thr_intensity = - np.inf\n",
    "        thr_probability = 0\n",
    "\n",
    "    print('using probability threshold of %f.'%(thr_probability))\n",
    "    print('using intensity threshold of %f.'%(thr_intensity))    \n",
    "    \n",
    "    # get and save brain mask\n",
    "    fig = plt.figure(1, (18, 6))\n",
    "    plt.subplot(131),\n",
    "    _ = plt.hist(voxel_intensity, 100)\n",
    "    plt.plot(thr_intensity, 0, '|', color='r', markersize=200)\n",
    "    plt.xlabel('voxel intensity')\n",
    "    plt.title('intensity histogram with threshold (red)')\n",
    "\n",
    "    plt.subplot(132),\n",
    "    _ = plt.hist(voxel_probability, 100)\n",
    "    plt.plot(thr_probability, 0, '|', color='r', markersize=200)\n",
    "    plt.xlabel('voxel probability')\n",
    "    plt.title('probability histogram with threshold (red)')\n",
    "\n",
    "    plt.subplot(133),\n",
    "    plt.plot(voxel_intensity, voxel_probability, linewidth=3)\n",
    "    plt.plot(thr_intensity, thr_probability, 'x', color='r', markersize=10)\n",
    "    plt.xlabel('voxel intensity')\n",
    "    plt.ylabel('voxel probability')\n",
    "    plt.title('intensity-probability plot with threshold (red)')\n",
    "\n",
    "    plt.savefig(os.path.join(dir_plot, 'histogram.png'))\n",
    "    plt.close(fig)\n",
    "\n",
    "    # remove all disconnected components less than 5000 cubic microliters in size\n",
    "    rx, ry, rz, _ = np.diag(p.affine_mat)\n",
    "    volume_mask = (volume_mean > thr_intensity).astype(bool)\n",
    "    thr_size = np.round(5000 * rx * ry * rz).astype(int)\n",
    "    volume_mask = morphology.remove_small_objects(volume_mask, thr_size)\n",
    "\n",
    "    # compute background fluorescence\n",
    "    background = np.median(volume_mean[volume_mask==0])    \n",
    "    \n",
    "    # save brain mask figures\n",
    "    for i in range(lz):\n",
    "        fig = plt.figure(1, (18, 6))\n",
    "        plt.subplot(131)\n",
    "        plt.imshow(volume_mean[:, :, i].T, vmin=voxel_intensity[0], vmax=voxel_intensity[-1])\n",
    "        plt.title('volume intensity (plane %d)'%(i))\n",
    "\n",
    "        plt.subplot(132)\n",
    "        plt.imshow(volume_mask[:, :, i].T)\n",
    "        plt.title('volume mask (plane %d)'%(i))\n",
    "\n",
    "        plt.subplot(133)\n",
    "        img = np.stack((volume_mean[:, :, i], volume_mask[:, :, i], volume_mask[:, :, i]), axis=2)\n",
    "        img[:, :, 0] = (img[:, :, 0] - voxel_intensity[0]) / (voxel_intensity[-1] - voxel_intensity[0])\n",
    "        img[:, :, 0] = np.minimum(np.maximum(img[:, :, 0], 0), 1)\n",
    "        plt.imshow(np.transpose(img, [1, 0, 2]))\n",
    "        plt.title('volume mask/intensity overlay (plane %d)'%(i))\n",
    "\n",
    "        plt.savefig(os.path.join(dir_plot, 'mask_z%03d.png'%(i)))\n",
    "        plt.close(fig)    \n",
    "        \n",
    "    with h5py.File(fullname_volmean+hdf, 'w') as file_handle:\n",
    "        file_handle['volume_mask'] = volume_mask.T\n",
    "        file_handle['volume_mean'] = volume_mean.T\n",
    "        file_handle['volume_peak'] = volume_peak.T\n",
    "        file_handle['thr_intensity'] = thr_intensity\n",
    "        file_handle['thr_probability'] = thr_probability\n",
    "        file_handle['background'] = background        "
   ]
  },
  {
   "cell_type": "markdown",
   "metadata": {},
   "source": [
    "## Detect cells"
   ]
  },
  {
   "cell_type": "code",
   "execution_count": 11,
   "metadata": {},
   "outputs": [],
   "source": [
    "from voluseg._steps.step4a import define_blocks\n",
    "from voluseg._steps.step4b import process_block_data\n",
    "from voluseg._steps.step4c import initialize_block_cells\n",
    "from voluseg._steps.step4d import nnmf_sparse\n",
    "from voluseg._tools.ball import ball\n",
    "from voluseg._tools.constants import hdf"
   ]
  },
  {
   "cell_type": "code",
   "execution_count": 12,
   "metadata": {},
   "outputs": [],
   "source": [
    "p = SimpleNamespace(**parameters)"
   ]
  },
  {
   "cell_type": "code",
   "execution_count": 13,
   "metadata": {},
   "outputs": [],
   "source": [
    "ball_diam, ball_diam_xyz0 = ball(1.0 * p.diam_cell, p.affine_mat)\n",
    "\n",
    "# load timepoints\n",
    "fullname_timemean = os.path.join(p.dir_output, 'mean_timeseries')\n",
    "with h5py.File(fullname_timemean+hdf, 'r') as file_handle:\n",
    "    timepoints = file_handle['timepoints'][()]"
   ]
  },
  {
   "cell_type": "code",
   "execution_count": null,
   "metadata": {},
   "outputs": [
    {
     "name": "stdout",
     "output_type": "stream",
     "text": [
      "number of blocks, total: 2038.\n",
      "number of blocks, remaining: 638.\n",
      "Kernel currently running on e06u03.int.janelia.org\n",
      "Scheduler: tcp://127.0.0.1:42001\n",
      "Dashboard link: http://127.0.0.1:8787/status\n"
     ]
    },
    {
     "data": {
      "text/html": [
       "<table style=\"border: 2px solid white;\">\n",
       "<tr>\n",
       "<td style=\"vertical-align: top; border: 0px solid white\">\n",
       "<h3 style=\"text-align: left;\">Client</h3>\n",
       "<ul style=\"text-align: left; list-style: none; margin: 0; padding: 0;\">\n",
       "  <li><b>Scheduler: </b>tcp://127.0.0.1:42001</li>\n",
       "  <li><b>Dashboard: </b><a href='http://127.0.0.1:8787/status' target='_blank'>http://127.0.0.1:8787/status</a></li>\n",
       "</ul>\n",
       "</td>\n",
       "<td style=\"vertical-align: top; border: 0px solid white\">\n",
       "<h3 style=\"text-align: left;\">Cluster</h3>\n",
       "<ul style=\"text-align: left; list-style:none; margin: 0; padding: 0;\">\n",
       "  <li><b>Workers: </b>32</li>\n",
       "  <li><b>Cores: </b>32</li>\n",
       "  <li><b>Memory: </b>1.01 TB</li>\n",
       "</ul>\n",
       "</td>\n",
       "</tr>\n",
       "</table>"
      ],
      "text/plain": [
       "<Client: 'tcp://127.0.0.1:42001' processes=32 threads=32, memory=1.01 TB>"
      ]
     },
     "metadata": {},
     "output_type": "display_data"
    },
    {
     "name": "stdout",
     "output_type": "stream",
     "text": [
      "Scheduling time: 27.909320859999752 s\n"
     ]
    }
   ],
   "source": [
    "# load plane filename\n",
    "for color_i in range(p.n_colors):\n",
    "    \n",
    "    fullname_cells = os.path.join(p.dir_output, 'cells%s_clean'%(color_i))\n",
    "    if os.path.isfile(fullname_cells+hdf):\n",
    "        continue\n",
    "\n",
    "    dir_cell = os.path.join(p.dir_output, 'cells', str(color_i))\n",
    "    os.makedirs(dir_cell, exist_ok=True)\n",
    "\n",
    "    fullname_volmean = os.path.join(p.dir_output, 'volume%d'%(color_i))\n",
    "    with h5py.File(fullname_volmean+hdf, 'r') as file_handle:\n",
    "        volume_mean = file_handle['volume_mean'][()].T\n",
    "        volume_mask = file_handle['volume_mask'][()].T\n",
    "        volume_peak = file_handle['volume_peak'][()].T\n",
    "        if 'n_blocks' in file_handle.keys():\n",
    "            flag = 0\n",
    "            n_voxels_cell = file_handle['n_voxels_cell'][()]\n",
    "            n_blocks = file_handle['n_blocks'][()]\n",
    "            block_valids = file_handle['block_valids'][()]\n",
    "            xyz0 = file_handle['block_xyz0'][()]\n",
    "            xyz1 = file_handle['block_xyz1'][()]\n",
    "        else:\n",
    "            flag = 1    \n",
    "            \n",
    "    # dimensions and resolution\n",
    "    lxyz = volume_mean.shape\n",
    "    rxyz = np.diag(p.affine_mat)[:3]\n",
    "\n",
    "    # compute number of blocks (do only once)\n",
    "    if flag:\n",
    "        lx, ly, lz = lxyz\n",
    "        rx, ry, rz = rxyz\n",
    "\n",
    "        # get number of voxels in cell\n",
    "        if (lz == 1) or (rz >= p.diam_cell):\n",
    "            # area of a circle\n",
    "            n_voxels_cell = np.pi * ((p.diam_cell / 2.0)**2) / (rx * ry)\n",
    "        else:\n",
    "            # volume of a cylinder (change to sphere later)\n",
    "            n_voxels_cell = p.diam_cell * np.pi * ((p.diam_cell / 2.0)**2) / (rx * ry * rz)\n",
    "\n",
    "        n_voxels_cell = np.round(n_voxels_cell).astype(int)\n",
    "\n",
    "        # get number of voxels in each cell\n",
    "        n_blocks, block_valids, xyz0, xyz1 = \\\n",
    "            define_blocks(lx, ly, lz, p.n_cells_block, n_voxels_cell, volume_mask)\n",
    "\n",
    "        # save number and indices of blocks\n",
    "        with h5py.File(fullname_volmean+hdf, 'r+') as file_handle:\n",
    "            file_handle['n_voxels_cell'] = n_voxels_cell\n",
    "            file_handle['n_blocks'] = n_blocks\n",
    "            file_handle['block_valids'] = block_valids\n",
    "            file_handle['block_xyz0'] = xyz0\n",
    "            file_handle['block_xyz1'] = xyz1\n",
    "\n",
    "    print('number of blocks, total: %d.'%(block_valids.sum()))            \n",
    "    \n",
    "    for ii in np.where(block_valids)[0]:\n",
    "        try:\n",
    "            fullname_block = os.path.join(dir_cell, 'block%05d'%(ii))\n",
    "            with h5py.File(fullname_block+hdf, 'r') as file_handle:\n",
    "                if ('completion' in file_handle.keys()) and file_handle['completion'][()]:\n",
    "                    block_valids[ii] = 0\n",
    "        except (NameError, OSError):\n",
    "            pass\n",
    "\n",
    "    print('number of blocks, remaining: %d.'%(block_valids.sum()))\n",
    "    ix = np.where(block_valids)[0]\n",
    "    block_ixyz01 = list(zip(ix, xyz0[ix], xyz1[ix]))   \n",
    "    \n",
    "    ## Open data\n",
    "    import zarr\n",
    "    data_cis_zarr = zarr.open(data_cis, mode='r')\n",
    "    data_cis_zarr    \n",
    "    \n",
    "    def process_block_data(xyz0, xyz1, parameters, color_i, lxyz, rxyz,\n",
    "                           ball_diam, bvolume_mean, bvolume_peak, timepoints):\n",
    "        '''load timeseries in individual blocks, slice-time correct, and find similar timeseries'''\n",
    "\n",
    "        import os\n",
    "        import h5py\n",
    "        import time\n",
    "        import numpy as np\n",
    "        from scipy import interpolate\n",
    "        from skimage import morphology\n",
    "        from types import SimpleNamespace\n",
    "        from voluseg._tools.constants import ali, hdf, dtype\n",
    "\n",
    "        os.environ['MKL_NUM_THREADS'] = '1'\n",
    "\n",
    "        p = SimpleNamespace(**parameters)\n",
    "        lz = lxyz[2]\n",
    "\n",
    "        # load and dilate initial voxel peak positions\n",
    "        x0_, y0_, z0_ = xyz0\n",
    "        x1_, y1_, z1_ = xyz1\n",
    "        voxel_peak = np.zeros_like(bvolume_peak)\n",
    "        voxel_peak[x0_:x1_, y0_:y1_, z0_:z1_] = 1\n",
    "        voxel_peak = voxel_peak & bvolume_peak & (bvolume_mean > 0)\n",
    "        voxel_mask = morphology.binary_dilation(voxel_peak, ball_diam) & (bvolume_mean > 0)\n",
    "\n",
    "        voxel_xyz = np.argwhere(voxel_mask)\n",
    "        voxel_xyz_peak = np.argwhere(voxel_peak)\n",
    "        peak_idx = np.argwhere(voxel_peak[voxel_mask]).T[0]\n",
    "\n",
    "        tic = time.time()\n",
    "        dir_volume = os.path.join(p.dir_output, 'volumes', str(color_i))\n",
    "        x0, y0, z0 = voxel_xyz.min(0)\n",
    "        x1, y1, z1 = voxel_xyz.max(0) + 1\n",
    "        voxel_timeseries_block = [None] * p.lt\n",
    "\n",
    "        voxel_timeseries_block = data_cis_zarr[:, z0:z1, y0:y1, x0:x1].T  # txyz -> xyzt\n",
    "        voxel_timeseries = voxel_timeseries_block[voxel_mask[x0:x1, y0:y1, z0:z1]]\n",
    "        voxel_timeseries = voxel_timeseries.astype(dtype)\n",
    "        del voxel_timeseries_block\n",
    "        print('data loading: %.1f minutes.\\n'%((time.time() - tic) / 60))\n",
    "\n",
    "        # slice-time correct if more than one slice and t_section is positive\n",
    "        if (lz > 1) and (p.t_section > 0):\n",
    "            for i, zi in enumerate(voxel_xyz[:, 2]):\n",
    "                # get timepoints of midpoint and zi plane for interpolation\n",
    "                timepoints_zi = np.arange(p.lt) / p.f_volume +  zi      * p.t_section\n",
    "                timepoints_zm = np.arange(p.lt) / p.f_volume + (lz / 2) * p.t_section\n",
    "\n",
    "                # make spline interpolator and interpolate timeseries\n",
    "                spline_interpolator_xyzi = \\\n",
    "                    interpolate.InterpolatedUnivariateSpline(timepoints_zi, voxel_timeseries[i])\n",
    "                voxel_timeseries[i] = spline_interpolator_xyzi(timepoints_zm)\n",
    "\n",
    "        def normalize(timeseries):\n",
    "            mn = timeseries.mean(1)\n",
    "            sd = timeseries.std(1, ddof=1)\n",
    "            return (timeseries - mn[:, None]) / (sd[:, None] * np.sqrt(p.lt - 1))\n",
    "\n",
    "        # get voxel connectivity from proximities (distances) and similarities (correlations)\n",
    "        voxel_xyz_phys_peak = voxel_xyz_peak * rxyz\n",
    "        voxel_timeseries_peak_nrm = normalize(voxel_timeseries[np.ix_(peak_idx, timepoints)])\n",
    "\n",
    "        # compute voxel peak similarity: combination of high proximity and high correlation\n",
    "        tic = time.time()\n",
    "        n_peaks = len(peak_idx)\n",
    "        voxel_similarity_peak = np.zeros((n_peaks, n_peaks), dtype=bool)\n",
    "        for i in range(n_peaks):\n",
    "            dist_i = (((voxel_xyz_phys_peak[i] - voxel_xyz_phys_peak)**2).sum(1))**0.5\n",
    "            neib_i = dist_i < p.diam_cell\n",
    "            corr_i = np.dot(voxel_timeseries_peak_nrm[i], voxel_timeseries_peak_nrm.T)\n",
    "            voxel_similarity_peak[i] = neib_i & (corr_i > np.median(corr_i[neib_i]))\n",
    "\n",
    "        voxel_similarity_peak = voxel_similarity_peak | voxel_similarity_peak.T\n",
    "        print('voxel similarity: %.1f minutes.\\n'%((time.time() - tic) / 60))\n",
    "\n",
    "        return (voxel_xyz, voxel_timeseries, peak_idx, voxel_similarity_peak)    \n",
    "\n",
    "    # detect individual cells with sparse nnmf algorithm\n",
    "    def detect_cells_block(tuple_i_xyz0_xyz1):\n",
    "\n",
    "        ## read from file\n",
    "        with h5py.File(fullname_volmean+hdf, 'r') as file_handle:\n",
    "            bvolume_peak = file_handle['volume_peak'][()].T\n",
    "            bvolume_mean = file_handle['volume_mean'][()].T        \n",
    "\n",
    "        import time\n",
    "\n",
    "        os.environ['MKL_NUM_THREADS'] = '1'\n",
    "\n",
    "        ii, xyz0, xyz1 = tuple_i_xyz0_xyz1\n",
    "\n",
    "        voxel_xyz, voxel_timeseries, peak_idx, voxel_similarity_peak = \\\n",
    "            process_block_data(xyz0, xyz1, parameters, color_i, lxyz, rxyz,\n",
    "                               ball_diam, bvolume_mean, bvolume_peak, timepoints)\n",
    "\n",
    "        n_voxels_block = len(voxel_xyz)                        # number of voxels in block\n",
    "\n",
    "        voxel_fraction_peak = np.argsort(((voxel_timeseries[peak_idx])**2).mean(1)) / len(peak_idx)\n",
    "        for fraction in np.r_[1:0:-0.05]:\n",
    "            try:\n",
    "                peak_valids = (voxel_fraction_peak >= (1 - fraction))   # valid voxel indices\n",
    "\n",
    "                n_cells = np.round(peak_valids.sum() / (0.5 * n_voxels_cell)).astype(int)\n",
    "                print((fraction, n_cells))\n",
    "\n",
    "                tic = time.time()\n",
    "                voxel_timeseries_valid, voxel_xyz_valid, cell_weight_init_valid, \\\n",
    "                    cell_neighborhood_valid, cell_sparseness = initialize_block_cells(\n",
    "                        n_voxels_cell, n_voxels_block, n_cells, voxel_xyz, voxel_timeseries, peak_idx,\n",
    "                        peak_valids, voxel_similarity_peak, lxyz, rxyz, ball_diam, ball_diam_xyz0)\n",
    "                print('cell initialization: %.1f minutes.\\n'%((time.time() - tic) / 60))\n",
    "\n",
    "                tic = time.time()\n",
    "                cell_weights_valid, cell_timeseries_valid, d = nnmf_sparse(\n",
    "                    voxel_timeseries_valid, voxel_xyz_valid, cell_weight_init_valid,\n",
    "                    cell_neighborhood_valid, cell_sparseness, timepoints=timepoints,\n",
    "                    miniter=10, maxiter=100, tolfun=1e-3, verbosity=False)\n",
    "\n",
    "                success = 1\n",
    "                print('cell factorization: %.1f minutes.\\n'%((time.time() - tic) / 60))\n",
    "                break\n",
    "            except ValueError as msg:\n",
    "                print('retrying factorization of block %d: %s'%(ii, msg))\n",
    "                success = 0\n",
    "\n",
    "        # get cell positions and timeseries, and save cell data\n",
    "        fullname_block = os.path.join(dir_cell, 'block%05d'%(ii))\n",
    "        with h5py.File(fullname_block+hdf, 'w') as file_handle:\n",
    "            if success:\n",
    "                for ci in range(n_cells):\n",
    "                    ix = cell_weights_valid[:, ci] > 0\n",
    "                    xyzi = voxel_xyz_valid[ix]\n",
    "                    wi = cell_weights_valid[ix, ci]\n",
    "                    bi = np.sum(wi * bvolume_mean[tuple(zip(*xyzi))]) / np.sum(wi)\n",
    "                    ti = bi * cell_timeseries_valid[ci] / np.mean(cell_timeseries_valid[ci])\n",
    "\n",
    "                    file_handle['/cell/%05d/xyz'%(ci)] = xyzi\n",
    "                    file_handle['/cell/%05d/weights'%(ci)] = wi\n",
    "                    file_handle['/cell/%05d/timeseries'%(ci)] = ti\n",
    "\n",
    "            file_handle['n_cells'] = n_cells\n",
    "            file_handle['completion'] = 1        \n",
    "            \n",
    "    import time\n",
    "\n",
    "    with start_cluster(\n",
    "        cores=1,\n",
    "        force_local=False, processes=32,\n",
    "        death_timeout=1200, store_logs=True, spillover=True, verbose=True) as cluster, Client(cluster) as client:\n",
    "\n",
    "        display(client)\n",
    "\n",
    "        sch_start = time.process_time()\n",
    "        future = client.map(detect_cells_block, block_ixyz01)\n",
    "        print(f'Scheduling time: {time.process_time() - sch_start} s')\n",
    "\n",
    "        cmp_start = time.process_time()\n",
    "        result = client.gather(future)\n",
    "        print(f'Compute time: {time.process_time() - cmp_start} s')               "
   ]
  },
  {
   "cell_type": "code",
   "execution_count": 255,
   "metadata": {},
   "outputs": [
    {
     "name": "stdout",
     "output_type": "stream",
     "text": [
      "(58, 53, 4, 54202)\n",
      "data loading: 7.0 minutes.\n",
      "\n",
      "voxel similarity: 0.1 minutes.\n",
      "\n",
      "(1.0, 193)\n"
     ]
    },
    {
     "name": "stderr",
     "output_type": "stream",
     "text": [
      "/groups/ahrens/home/limj2/anaconda3/envs/python37/lib/python3.6/site-packages/sklearn/cluster/_hierarchical.py:244: UserWarning: the number of connected components of the connectivity matrix is 4 > 1. Completing it to avoid stopping the tree early.\n",
      "  affinity='euclidean')\n"
     ]
    },
    {
     "name": "stdout",
     "output_type": "stream",
     "text": [
      "cell initialization: 0.1 minutes.\n",
      "\n",
      "(0, 1.5836856146709233, 1.7391393772706083)\n",
      "(1, 0.9894178305234703, 1.4094238792319178)\n",
      "(2, 0.9942896957574211, 0.014357450711416402)\n",
      "(3, 0.994427605750581, 0.008356892835768914)\n",
      "(4, 0.9942688643227016, 0.007092552863908608)\n",
      "(5, 0.9941694241352262, 0.004094284456387411)\n",
      "(6, 0.9940860618571027, 0.0026673008816530093)\n",
      "(7, 0.9940560075159935, 0.002304383455858736)\n",
      "(8, 0.9940360018136267, 0.0017202246323778057)\n",
      "(9, 0.9939891079151312, 0.0014905202725173515)\n",
      "(10, 0.9939763058200556, 0.0011266808400308705)\n",
      "(11, 0.9939458224090683, 0.0011139479350170938)\n",
      "cell factorization: 1.2 minutes.\n",
      "\n",
      "CPU times: user 2min 6s, sys: 2min 18s, total: 4min 24s\n",
      "Wall time: 8min 31s\n"
     ]
    }
   ],
   "source": [
    "%%time\n",
    "bvolume_peak = volume_peak\n",
    "bvolume_mean = volume_mean\n",
    "detect_cells_block(block_ixyz01[1])"
   ]
  },
  {
   "cell_type": "markdown",
   "metadata": {},
   "source": [
    "## Collect cells"
   ]
  },
  {
   "cell_type": "code",
   "execution_count": 13,
   "metadata": {},
   "outputs": [],
   "source": [
    "from itertools import combinations\n",
    "from voluseg._steps.step4e import collect_blocks\n",
    "from voluseg._tools.constants import hdf, dtype\n",
    "from voluseg._tools.clean_signal import clean_signal"
   ]
  },
  {
   "cell_type": "code",
   "execution_count": 18,
   "metadata": {},
   "outputs": [],
   "source": [
    "p = SimpleNamespace(**parameters)\n",
    "\n",
    "thr_similarity = 0.5"
   ]
  },
  {
   "cell_type": "code",
   "execution_count": 16,
   "metadata": {},
   "outputs": [],
   "source": [
    "def collect_blocks(color_i, parameters):\n",
    "    dir_cell = os.path.join(p.dir_output, 'cells', str(color_i))\n",
    "    \n",
    "    fullname_volmean = os.path.join(p.dir_output, 'volume%d'%(color_i))\n",
    "    with h5py.File(fullname_volmean+hdf, 'r') as file_handle:\n",
    "        block_valids = file_handle['block_valids'][()]    \n",
    "        \n",
    "    idx_block_valids = np.argwhere(block_valids).T[0]\n",
    "    \n",
    "    # valids_tuple = zip([[]]*len(idx_block_valids), idx_block_valids)  ## not necessary before add_data doesn't accept tuples as input\n",
    "    \n",
    "    def add_data(ii):\n",
    "        cell_block_id = []\n",
    "        cell_xyz = []\n",
    "        cell_weights = []\n",
    "        cell_timeseries = []\n",
    "\n",
    "        fullname_block = os.path.join(dir_cell, 'block%05d'%(ii))\n",
    "        with h5py.File(fullname_block+hdf, 'r') as file_handle:\n",
    "            for ci in range(file_handle['n_cells'][()]):\n",
    "                cell_block_id.append(ii)\n",
    "                cell_xyz.append(file_handle['/cell/%05d/xyz'%(ci)][()])\n",
    "                cell_weights.append(file_handle['/cell/%05d/weights'%(ci)][()])\n",
    "                cell_timeseries.append(file_handle['/cell/%05d/timeseries'%(ci)][()])\n",
    "\n",
    "        return [cell_block_id, cell_xyz, cell_weights, cell_timeseries]    \n",
    "    \n",
    "    cell_block_id, cell_xyz, cell_weights, cell_timeseries = list(zip(*map(add_data, tqdm(idx_block_valids))))  ## 6 mins\n",
    "    \n",
    "    cell_block_id = [ii for bi in cell_block_id for ii in bi]\n",
    "    cell_xyz = [xyzi for ci in cell_xyz for xyzi in ci]\n",
    "    cell_weights = [wi for ci in cell_weights for wi in ci]\n",
    "    cell_timeseries = [ti for ci in cell_timeseries for ti in ci]    \n",
    "\n",
    "    # convert lists to arrays\n",
    "    cn = len(cell_xyz)\n",
    "    cell_block_id = np.array(cell_block_id)\n",
    "    cell_lengths = np.array([len(i) for i in cell_weights])\n",
    "    cell_xyz_array = np.full((cn, np.max(cell_lengths), 3), -1, dtype=int)\n",
    "    cell_weights_array = np.full((cn, np.max(cell_lengths)), np.nan)\n",
    "    for ci, li in enumerate(cell_lengths):\n",
    "        cell_xyz_array[ci, :li] = cell_xyz[ci]\n",
    "        cell_weights_array[ci, :li] = cell_weights[ci]\n",
    "    cell_timeseries_array = pd._libs.lib.to_object_array(cell_timeseries)\n",
    "    \n",
    "    return cell_block_id, cell_xyz_array, cell_weights_array, cell_timeseries_array, cell_lengths"
   ]
  },
  {
   "cell_type": "code",
   "execution_count": null,
   "metadata": {},
   "outputs": [],
   "source": [
    "for color_i in range(p.n_colors):\n",
    "    \n",
    "    fullname_cells = os.path.join(p.dir_output, 'cells%s_clean'%(color_i))\n",
    "    if os.path.isfile(fullname_cells+hdf):\n",
    "        continue    \n",
    "\n",
    "    cell_block_id, cell_xyz, cell_weights, cell_timeseries, cell_lengths = collect_blocks(color_i, parameters)  ## about 55 mins\n",
    "    \n",
    "    fullname_volmean = os.path.join(p.dir_output, 'volume%d'%(color_i))\n",
    "    with h5py.File(fullname_volmean+hdf, 'r') as file_handle:\n",
    "        volume_mask = file_handle['volume_mask'][()].T\n",
    "        x, y, z = volume_mask.shape    \n",
    "        \n",
    "    cell_x = cell_xyz[:, :, 0]\n",
    "    cell_y = cell_xyz[:, :, 1]\n",
    "    cell_z = cell_xyz[:, :, 2]\n",
    "    cell_w = np.nansum(cell_weights, 1)\n",
    "\n",
    "    ix = np.any(np.isnan(cell_timeseries), 1)\n",
    "    if np.any(ix):\n",
    "        print('nans (to be removed): %d'%np.count_nonzero(ix))\n",
    "        cell_timeseries[ix] = 0\n",
    "\n",
    "    cell_valids = np.zeros(len(cell_w), dtype=bool)\n",
    "    for i, (li, xi, yi, zi) in enumerate(zip(cell_lengths, cell_x, cell_y, cell_z)):\n",
    "        cell_valids[i] = np.mean(volume_mask[xi[:li], yi[:li], zi[:li]]) > p.thr_mask        \n",
    "        \n",
    "    ## 29 mins for next two sections\n",
    "    # brain mask array\n",
    "    volume_list = [[[[] for zi in range(z)] for yi in range(y)] for xi in range(x)]\n",
    "    volume_cell_n = np.zeros((x, y, z), dtype='int')\n",
    "    for i, (li, vi) in enumerate(zip(cell_lengths, cell_valids)):\n",
    "        for j in range(li if vi else 0):\n",
    "            xij, yij, zij = cell_x[i, j], cell_y[i, j], cell_z[i, j]\n",
    "            volume_list[xij][yij][zij].append(i)\n",
    "            volume_cell_n[xij, yij, zij] += 1\n",
    "\n",
    "    pair_cells = [pi for a in volume_list for b in a for c in b for pi in combinations(c, 2)]\n",
    "    assert(len(pair_cells) == np.sum(volume_cell_n * (volume_cell_n - 1) / 2))\n",
    "\n",
    "    # remove duplicate cells\n",
    "    pair_id, pair_count = np.unique(pair_cells, axis=0, return_counts=True)\n",
    "    for pi, fi in zip(pair_id, pair_count):\n",
    "        pair_overlap = (fi / np.mean(cell_lengths[pi])) > thr_similarity\n",
    "        pair_correlation = np.corrcoef(cell_timeseries[pi])[0, 1] > thr_similarity\n",
    "        if (pair_overlap and pair_correlation):\n",
    "            cell_valids[pi[np.argmin(cell_w[pi])]] = 0        \n",
    "            \n",
    "    ## get valid version of cells\n",
    "    cell_block_id = cell_block_id[cell_valids]\n",
    "    cell_weights = cell_weights[cell_valids].astype(dtype)\n",
    "    cell_timeseries = cell_timeseries[cell_valids].astype(dtype)\n",
    "    cell_lengths = cell_lengths[cell_valids]\n",
    "    cell_x = cell_x[cell_valids]\n",
    "    cell_y = cell_y[cell_valids]\n",
    "    cell_z = cell_z[cell_valids]\n",
    "    cell_w = cell_w[cell_valids]\n",
    "    ## end get valid version of cells      \n",
    "    \n",
    "    from analysis_toolbox.utils import chunk_and_saveas_zarr\n",
    "\n",
    "    cell_timeseries_da = chunk_and_saveas_zarr(cell_timeseries, chunks=(200, -1), reload='dask')\n",
    "    \n",
    "    from functools import partial\n",
    "    clean_signal_p = partial(clean_signal, parameters)\n",
    "    clean_signal_p()  \n",
    "    \n",
    "    timebase_da = da.apply_along_axis(clean_signal_p, 1, cell_timeseries_da, dtype=cell_timeseries.dtype, shape=(2, cell_timeseries.shape[1]))\n",
    "\n",
    "    ## 7 mins\n",
    "    with start_cluster(\n",
    "        cores=4,\n",
    "        force_local=False, processes=64,\n",
    "        death_timeout=1200, store_logs=True, spillover=True, verbose=True) as cluster, Client(cluster) as client:\n",
    "\n",
    "        display(client)\n",
    "\n",
    "        cmp_start = time.process_time()\n",
    "        timebase = timebase_da.compute()\n",
    "        print(f'Compute time: {time.process_time() - cmp_start} s')         \n",
    "        \n",
    "        \n",
    "    cell_timeseries1 = timebase[:, 0, :]\n",
    "    cell_baseline1 = timebase[:, 1, :]    \n",
    "    \n",
    "    ## 2 mins\n",
    "    # check that all series are in single precision\n",
    "    assert(cell_weights.dtype == dtype)\n",
    "    assert(cell_timeseries.dtype == dtype)\n",
    "    assert(cell_timeseries1.dtype == dtype)\n",
    "    assert(cell_baseline1.dtype == dtype)\n",
    "\n",
    "    n = np.count_nonzero(cell_valids)\n",
    "    volume_id = -1 + np.zeros((x, y, z))\n",
    "    volume_weight = np.zeros((x, y, z))\n",
    "    for i, li in enumerate(cell_lengths):\n",
    "        for j in range(li):\n",
    "            xij, yij, zij = cell_x[i, j], cell_y[i, j], cell_z[i, j]\n",
    "            if cell_weights[i, j] > volume_weight[xij, yij, zij]:\n",
    "                volume_id[xij, yij, zij] = i\n",
    "                volume_weight[xij, yij, zij] = cell_weights[i, j]    \n",
    "    \n",
    "    ## 2 mins\n",
    "    with h5py.File(fullname_volmean+hdf, 'r') as file_handle:\n",
    "        background = file_handle['background'][()]\n",
    "\n",
    "    with h5py.File(fullname_cells+hdf, 'w') as file_handle:\n",
    "        file_handle['n'] = n\n",
    "        file_handle['t'] = p.lt\n",
    "        file_handle['x'] = x\n",
    "        file_handle['y'] = y\n",
    "        file_handle['z'] = z\n",
    "        file_handle['cell_x'] = cell_x\n",
    "        file_handle['cell_y'] = cell_y\n",
    "        file_handle['cell_z'] = cell_z\n",
    "        file_handle['cell_block_id'] = cell_block_id\n",
    "        file_handle['volume_id'] = volume_id\n",
    "        file_handle['volume_weight'] = volume_weight\n",
    "        file_handle['cell_weights'] = cell_weights\n",
    "        file_handle['cell_timeseries_raw'] = cell_timeseries\n",
    "        file_handle['cell_timeseries'] = cell_timeseries1\n",
    "        file_handle['cell_baseline'] = cell_baseline1\n",
    "        file_handle['background'] = background                "
   ]
  },
  {
   "cell_type": "markdown",
   "metadata": {},
   "source": [
    "## Clean up"
   ]
  },
  {
   "cell_type": "code",
   "execution_count": 22,
   "metadata": {},
   "outputs": [],
   "source": [
    "from voluseg._tools.constants import hdf"
   ]
  },
  {
   "cell_type": "code",
   "execution_count": null,
   "metadata": {},
   "outputs": [
    {
     "name": "stdout",
     "output_type": "stream",
     "text": [
      "/scratch/limj2/data/raw/20211008/fish01/6dpf_elavl3-gc8f-gfap-jregeco_MG-vs-NGGU-trunc35_fish01_exp03_20211009_004814/im_CM1/\n",
      "\n",
      "Opening metadata file...\n",
      "Metadata not available...\n",
      "Loading brain volume...\n",
      "Loading segments...\n",
      "Calculating dff...\n"
     ]
    }
   ],
   "source": [
    "%%time\n",
    "## have a look at results\n",
    "from analysis_toolbox.seg_helper import voluseg\n",
    "im_voluseg = voluseg(segmented_root=dir_output, im_dir=dir_input)"
   ]
  },
  {
   "cell_type": "code",
   "execution_count": null,
   "metadata": {},
   "outputs": [],
   "source": [
    "im_voluseg.cell_dff.shape"
   ]
  },
  {
   "cell_type": "code",
   "execution_count": 23,
   "metadata": {},
   "outputs": [],
   "source": [
    "# clean up\n",
    "completion = 1\n",
    "for color_i in range(p.n_colors):\n",
    "    fullname_cells = os.path.join(p.dir_output, 'cells%s_clean'%(color_i))\n",
    "    if not os.path.isfile(fullname_cells+hdf):\n",
    "        completion = 0\n",
    "\n",
    "if not p.save_volume:\n",
    "    if completion:\n",
    "        try:    \n",
    "            shutil.rmtree(os.path.join(p.dir_output, 'cells'))\n",
    "            shutil.rmtree(os.path.join(p.dir_output, 'volumes'))\n",
    "        except:\n",
    "            pass"
   ]
  },
  {
   "cell_type": "code",
   "execution_count": 24,
   "metadata": {},
   "outputs": [
    {
     "name": "stdout",
     "output_type": "stream",
     "text": [
      "Total: 48.4TiB\n",
      "Used: 23.0TiB\n",
      "Free: 25.5TiB\n"
     ]
    }
   ],
   "source": [
    "from analysis_toolbox.utils import disk_usage\n",
    "\n",
    "disk_usage(root_dir)"
   ]
  },
  {
   "cell_type": "code",
   "execution_count": null,
   "metadata": {},
   "outputs": [],
   "source": []
  }
 ],
 "metadata": {
  "kernelspec": {
   "display_name": "python37",
   "language": "python",
   "name": "python37"
  },
  "language_info": {
   "codemirror_mode": {
    "name": "ipython",
    "version": 3
   },
   "file_extension": ".py",
   "mimetype": "text/x-python",
   "name": "python",
   "nbconvert_exporter": "python",
   "pygments_lexer": "ipython3",
   "version": "3.6.7"
  }
 },
 "nbformat": 4,
 "nbformat_minor": 4
}
